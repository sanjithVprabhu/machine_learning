{
 "cells": [
  {
   "cell_type": "code",
   "execution_count": 1,
   "id": "f6f4fd09",
   "metadata": {
    "_cell_guid": "b1076dfc-b9ad-4769-8c92-a6c4dae69d19",
    "_uuid": "8f2839f25d086af736a60e9eeb907d3b93b6e0e5",
    "execution": {
     "iopub.execute_input": "2025-03-04T19:24:11.386311Z",
     "iopub.status.busy": "2025-03-04T19:24:11.385889Z",
     "iopub.status.idle": "2025-03-04T19:24:12.501750Z",
     "shell.execute_reply": "2025-03-04T19:24:12.500354Z"
    },
    "papermill": {
     "duration": 1.12257,
     "end_time": "2025-03-04T19:24:12.503840",
     "exception": false,
     "start_time": "2025-03-04T19:24:11.381270",
     "status": "completed"
    },
    "tags": []
   },
   "outputs": [
    {
     "name": "stdout",
     "output_type": "stream",
     "text": [
      "/kaggle/input/mnsit-test/crnn_mnist_submission.csv\n",
      "/kaggle/input/mnsit-test/__results__.html\n",
      "/kaggle/input/mnsit-test/__notebook__.ipynb\n",
      "/kaggle/input/mnsit-test/__output__.json\n",
      "/kaggle/input/mnsit-test/model.png\n",
      "/kaggle/input/mnsit-test/custom.css\n",
      "/kaggle/input/mnsit-test/__results___files/__results___5_0.png\n",
      "/kaggle/input/mnsit-test/__results___files/__results___8_1.png\n"
     ]
    }
   ],
   "source": [
    "# This Python 3 environment comes with many helpful analytics libraries installed\n",
    "# It is defined by the kaggle/python Docker image: https://github.com/kaggle/docker-python\n",
    "# For example, here's several helpful packages to load\n",
    "\n",
    "import numpy as np # linear algebra\n",
    "import pandas as pd # data processing, CSV file I/O (e.g. pd.read_csv)\n",
    "\n",
    "# Input data files are available in the read-only \"../input/\" directory\n",
    "# For example, running this (by clicking run or pressing Shift+Enter) will list all files under the input directory\n",
    "\n",
    "import os\n",
    "for dirname, _, filenames in os.walk('/kaggle/input'):\n",
    "    for filename in filenames:\n",
    "        print(os.path.join(dirname, filename))\n",
    "\n",
    "# You can write up to 20GB to the current directory (/kaggle/working/) that gets preserved as output when you create a version using \"Save & Run All\" \n",
    "# You can also write temporary files to /kaggle/temp/, but they won't be saved outside of the current session"
   ]
  },
  {
   "cell_type": "code",
   "execution_count": 2,
   "id": "5ff8e47a",
   "metadata": {
    "execution": {
     "iopub.execute_input": "2025-03-04T19:24:12.511776Z",
     "iopub.status.busy": "2025-03-04T19:24:12.511294Z",
     "iopub.status.idle": "2025-03-04T19:24:23.580577Z",
     "shell.execute_reply": "2025-03-04T19:24:23.579352Z"
    },
    "papermill": {
     "duration": 11.075104,
     "end_time": "2025-03-04T19:24:23.582449",
     "exception": false,
     "start_time": "2025-03-04T19:24:12.507345",
     "status": "completed"
    },
    "tags": []
   },
   "outputs": [],
   "source": [
    "import torch \n",
    "import torch.nn as nn\n",
    "import torch.optim as optim\n",
    "import torchvision\n",
    "import torchvision.transforms as transforms\n",
    "from torch.utils.data import DataLoader\n",
    "import matplotlib.pyplot as plt\n"
   ]
  },
  {
   "cell_type": "code",
   "execution_count": 3,
   "id": "b8f5cab2",
   "metadata": {
    "execution": {
     "iopub.execute_input": "2025-03-04T19:24:23.590049Z",
     "iopub.status.busy": "2025-03-04T19:24:23.589575Z",
     "iopub.status.idle": "2025-03-04T19:24:23.594578Z",
     "shell.execute_reply": "2025-03-04T19:24:23.593401Z"
    },
    "papermill": {
     "duration": 0.010687,
     "end_time": "2025-03-04T19:24:23.596306",
     "exception": false,
     "start_time": "2025-03-04T19:24:23.585619",
     "status": "completed"
    },
    "tags": []
   },
   "outputs": [],
   "source": [
    "transform = transforms.Compose([\n",
    "    transforms.ToTensor(),  # Convert images to tensors\n",
    "    transforms.Normalize((0.5,), (0.5,))  # Normalize to [-1, 1] range\n",
    "])"
   ]
  },
  {
   "cell_type": "code",
   "execution_count": 4,
   "id": "1df89dd1",
   "metadata": {
    "execution": {
     "iopub.execute_input": "2025-03-04T19:24:23.603822Z",
     "iopub.status.busy": "2025-03-04T19:24:23.603487Z",
     "iopub.status.idle": "2025-03-04T19:24:28.250502Z",
     "shell.execute_reply": "2025-03-04T19:24:28.249124Z"
    },
    "papermill": {
     "duration": 4.652767,
     "end_time": "2025-03-04T19:24:28.252313",
     "exception": false,
     "start_time": "2025-03-04T19:24:23.599546",
     "status": "completed"
    },
    "tags": []
   },
   "outputs": [
    {
     "name": "stdout",
     "output_type": "stream",
     "text": [
      "Downloading http://yann.lecun.com/exdb/mnist/train-images-idx3-ubyte.gz\n",
      "Failed to download (trying next):\n",
      "HTTP Error 404: Not Found\n",
      "\n",
      "Downloading https://ossci-datasets.s3.amazonaws.com/mnist/train-images-idx3-ubyte.gz\n",
      "Downloading https://ossci-datasets.s3.amazonaws.com/mnist/train-images-idx3-ubyte.gz to ./data/MNIST/raw/train-images-idx3-ubyte.gz\n"
     ]
    },
    {
     "name": "stderr",
     "output_type": "stream",
     "text": [
      "100%|██████████| 9.91M/9.91M [00:00<00:00, 15.9MB/s]\n"
     ]
    },
    {
     "name": "stdout",
     "output_type": "stream",
     "text": [
      "Extracting ./data/MNIST/raw/train-images-idx3-ubyte.gz to ./data/MNIST/raw\n",
      "\n",
      "Downloading http://yann.lecun.com/exdb/mnist/train-labels-idx1-ubyte.gz\n",
      "Failed to download (trying next):\n",
      "HTTP Error 404: Not Found\n",
      "\n",
      "Downloading https://ossci-datasets.s3.amazonaws.com/mnist/train-labels-idx1-ubyte.gz\n",
      "Downloading https://ossci-datasets.s3.amazonaws.com/mnist/train-labels-idx1-ubyte.gz to ./data/MNIST/raw/train-labels-idx1-ubyte.gz\n"
     ]
    },
    {
     "name": "stderr",
     "output_type": "stream",
     "text": [
      "100%|██████████| 28.9k/28.9k [00:00<00:00, 435kB/s]\n"
     ]
    },
    {
     "name": "stdout",
     "output_type": "stream",
     "text": [
      "Extracting ./data/MNIST/raw/train-labels-idx1-ubyte.gz to ./data/MNIST/raw\n",
      "\n",
      "Downloading http://yann.lecun.com/exdb/mnist/t10k-images-idx3-ubyte.gz\n",
      "Failed to download (trying next):\n",
      "HTTP Error 404: Not Found\n",
      "\n",
      "Downloading https://ossci-datasets.s3.amazonaws.com/mnist/t10k-images-idx3-ubyte.gz\n",
      "Downloading https://ossci-datasets.s3.amazonaws.com/mnist/t10k-images-idx3-ubyte.gz to ./data/MNIST/raw/t10k-images-idx3-ubyte.gz\n"
     ]
    },
    {
     "name": "stderr",
     "output_type": "stream",
     "text": [
      "100%|██████████| 1.65M/1.65M [00:00<00:00, 4.00MB/s]\n"
     ]
    },
    {
     "name": "stdout",
     "output_type": "stream",
     "text": [
      "Extracting ./data/MNIST/raw/t10k-images-idx3-ubyte.gz to ./data/MNIST/raw\n",
      "\n",
      "Downloading http://yann.lecun.com/exdb/mnist/t10k-labels-idx1-ubyte.gz\n",
      "Failed to download (trying next):\n",
      "HTTP Error 404: Not Found\n",
      "\n",
      "Downloading https://ossci-datasets.s3.amazonaws.com/mnist/t10k-labels-idx1-ubyte.gz\n",
      "Downloading https://ossci-datasets.s3.amazonaws.com/mnist/t10k-labels-idx1-ubyte.gz to ./data/MNIST/raw/t10k-labels-idx1-ubyte.gz\n"
     ]
    },
    {
     "name": "stderr",
     "output_type": "stream",
     "text": [
      "100%|██████████| 4.54k/4.54k [00:00<00:00, 3.96MB/s]"
     ]
    },
    {
     "name": "stdout",
     "output_type": "stream",
     "text": [
      "Extracting ./data/MNIST/raw/t10k-labels-idx1-ubyte.gz to ./data/MNIST/raw\n",
      "\n"
     ]
    },
    {
     "name": "stderr",
     "output_type": "stream",
     "text": [
      "\n"
     ]
    }
   ],
   "source": [
    "train_dataset = torchvision.datasets.MNIST(root='./data', train=True, transform=transform, download=True)\n",
    "test_dataset = torchvision.datasets.MNIST(root='./data', train=False, transform=transform, download=True)\n"
   ]
  },
  {
   "cell_type": "code",
   "execution_count": 5,
   "id": "2a159b7d",
   "metadata": {
    "execution": {
     "iopub.execute_input": "2025-03-04T19:24:28.263820Z",
     "iopub.status.busy": "2025-03-04T19:24:28.263367Z",
     "iopub.status.idle": "2025-03-04T19:24:28.268660Z",
     "shell.execute_reply": "2025-03-04T19:24:28.267584Z"
    },
    "papermill": {
     "duration": 0.012828,
     "end_time": "2025-03-04T19:24:28.270301",
     "exception": false,
     "start_time": "2025-03-04T19:24:28.257473",
     "status": "completed"
    },
    "tags": []
   },
   "outputs": [],
   "source": [
    "batch_size = 64\n",
    "train_loader = DataLoader(train_dataset, batch_size=batch_size, shuffle=True)\n",
    "test_loader = DataLoader(test_dataset, batch_size=batch_size, shuffle=False)\n"
   ]
  },
  {
   "cell_type": "code",
   "execution_count": 6,
   "id": "4334a122",
   "metadata": {
    "execution": {
     "iopub.execute_input": "2025-03-04T19:24:28.281829Z",
     "iopub.status.busy": "2025-03-04T19:24:28.281461Z",
     "iopub.status.idle": "2025-03-04T19:24:28.317746Z",
     "shell.execute_reply": "2025-03-04T19:24:28.316628Z"
    },
    "papermill": {
     "duration": 0.044387,
     "end_time": "2025-03-04T19:24:28.319838",
     "exception": false,
     "start_time": "2025-03-04T19:24:28.275451",
     "status": "completed"
    },
    "tags": []
   },
   "outputs": [
    {
     "name": "stdout",
     "output_type": "stream",
     "text": [
      "Cuda is not available\n"
     ]
    }
   ],
   "source": [
    "class CNN(nn.Module):\n",
    "    def __init__(self):\n",
    "        super(CNN, self).__init__()\n",
    "        self.conv1 = nn.Conv2d(1, 32, kernel_size=3, padding=1)  # Conv layer\n",
    "        self.conv2 = nn.Conv2d(32, 64, kernel_size=3, padding=1)\n",
    "        self.pool = nn.MaxPool2d(kernel_size=2, stride=2)  # Reduce size\n",
    "        self.fc1 = nn.Linear(64 * 7 * 7, 128)  # Fully connected layer\n",
    "        self.fc2 = nn.Linear(128, 10)  # 10 output classes (digits 0-9)\n",
    "\n",
    "    def forward(self, x):\n",
    "        x = self.pool(torch.relu(self.conv1(x)))\n",
    "        x = self.pool(torch.relu(self.conv2(x)))\n",
    "        x = x.view(x.size(0), -1)  # Flatten\n",
    "        x = torch.relu(self.fc1(x))\n",
    "        x = self.fc2(x)  # No activation (handled in loss function)\n",
    "        return x\n",
    "\n",
    "# ✅ 3️⃣ Train the Model\n",
    "device = torch.device(\"cuda\" if torch.cuda.is_available() else \"cpu\")\n",
    "if torch.cuda.is_available():\n",
    "    print(\"Cuda is available\")\n",
    "else:\n",
    "    print(\"Cuda is not available\")\n",
    "model = CNN().to(device)\n",
    "\n",
    "criterion = nn.CrossEntropyLoss()  # Loss for multi-class classification\n",
    "optimizer = optim.Adam(model.parameters(), lr=0.001)\n",
    "\n",
    "num_epochs = 5  # Change as needed\n"
   ]
  },
  {
   "cell_type": "code",
   "execution_count": 7,
   "id": "e0bb9c29",
   "metadata": {
    "execution": {
     "iopub.execute_input": "2025-03-04T19:24:28.331676Z",
     "iopub.status.busy": "2025-03-04T19:24:28.331302Z",
     "iopub.status.idle": "2025-03-04T19:29:41.594659Z",
     "shell.execute_reply": "2025-03-04T19:29:41.593381Z"
    },
    "papermill": {
     "duration": 313.27646,
     "end_time": "2025-03-04T19:29:41.601374",
     "exception": false,
     "start_time": "2025-03-04T19:24:28.324914",
     "status": "completed"
    },
    "tags": []
   },
   "outputs": [
    {
     "name": "stdout",
     "output_type": "stream",
     "text": [
      "Epoch [1/5], Loss: 0.2527\n",
      "Epoch [2/5], Loss: 0.1549\n",
      "Epoch [3/5], Loss: 0.0231\n",
      "Epoch [4/5], Loss: 0.0033\n",
      "Epoch [5/5], Loss: 0.1074\n"
     ]
    }
   ],
   "source": [
    "for epoch in range(num_epochs):\n",
    "    for images, labels in train_loader:\n",
    "        images, labels = images.to(device), labels.to(device)\n",
    "\n",
    "        optimizer.zero_grad()\n",
    "        outputs = model(images)\n",
    "        loss = criterion(outputs, labels)\n",
    "        loss.backward()\n",
    "        optimizer.step()\n",
    "\n",
    "    print(f'Epoch [{epoch+1}/{num_epochs}], Loss: {loss.item():.4f}')\n"
   ]
  },
  {
   "cell_type": "code",
   "execution_count": 8,
   "id": "7b42455d",
   "metadata": {
    "execution": {
     "iopub.execute_input": "2025-03-04T19:29:41.614363Z",
     "iopub.status.busy": "2025-03-04T19:29:41.613963Z",
     "iopub.status.idle": "2025-03-04T19:30:30.739008Z",
     "shell.execute_reply": "2025-03-04T19:30:30.737691Z"
    },
    "papermill": {
     "duration": 49.137935,
     "end_time": "2025-03-04T19:30:30.745844",
     "exception": false,
     "start_time": "2025-03-04T19:29:41.607909",
     "status": "completed"
    },
    "tags": []
   },
   "outputs": [
    {
     "name": "stdout",
     "output_type": "stream",
     "text": [
      "Train Accuracy: 99.37%\n",
      "Test Accuracy: 98.78%\n"
     ]
    }
   ],
   "source": [
    "def evaluate(model, loader):\n",
    "    model.eval()\n",
    "    correct = 0\n",
    "    total = 0\n",
    "    with torch.no_grad():\n",
    "        for images, labels in loader:\n",
    "            images, labels = images.to(device), labels.to(device)\n",
    "            outputs = model(images)\n",
    "            _, predicted = torch.max(outputs, 1)\n",
    "            total += labels.size(0)\n",
    "            correct += (predicted == labels).sum().item()\n",
    "    \n",
    "    return correct / total\n",
    "\n",
    "train_acc = evaluate(model, train_loader)\n",
    "test_acc = evaluate(model, test_loader)\n",
    "print(f'Train Accuracy: {train_acc:.2%}')\n",
    "print(f'Test Accuracy: {test_acc:.2%}')"
   ]
  },
  {
   "cell_type": "code",
   "execution_count": 9,
   "id": "9355afa7",
   "metadata": {
    "execution": {
     "iopub.execute_input": "2025-03-04T19:30:30.757886Z",
     "iopub.status.busy": "2025-03-04T19:30:30.757518Z",
     "iopub.status.idle": "2025-03-04T19:30:31.406490Z",
     "shell.execute_reply": "2025-03-04T19:30:31.405288Z"
    },
    "papermill": {
     "duration": 0.657356,
     "end_time": "2025-03-04T19:30:31.408553",
     "exception": false,
     "start_time": "2025-03-04T19:30:30.751197",
     "status": "completed"
    },
    "tags": []
   },
   "outputs": [
    {
     "data": {
      "image/png": "[encoded data removed]",
      "text/plain": [
       "<Figure size 1000x200 with 10 Axes>"
      ]
     },
     "metadata": {},
     "output_type": "display_data"
    }
   ],
   "source": [
    "import numpy as np\n",
    "\n",
    "def show_sample_predictions(model, loader):\n",
    "    model.eval()\n",
    "    images, labels = next(iter(loader))\n",
    "    images, labels = images[:10].to(device), labels[:10].to(device)\n",
    "\n",
    "    with torch.no_grad():\n",
    "        outputs = model(images)\n",
    "        _, predicted = torch.max(outputs, 1)\n",
    "\n",
    "    images = images.cpu().numpy().squeeze()\n",
    "\n",
    "    plt.figure(figsize=(10, 2))\n",
    "    for i in range(10):\n",
    "        plt.subplot(2, 5, i+1)\n",
    "        plt.imshow(images[i], cmap=\"gray\")\n",
    "        plt.title(f'Pred: {predicted[i].item()}')\n",
    "        plt.axis('off')\n",
    "    plt.show()\n",
    "\n",
    "# 🔹 Show predictions on test set\n",
    "show_sample_predictions(model, test_loader)\n"
   ]
  }
 ],
 "metadata": {
  "kaggle": {
   "accelerator": "none",
   "dataSources": [
    {
     "sourceId": 17760168,
     "sourceType": "kernelVersion"
    }
   ],
   "dockerImageVersionId": 30919,
   "isGpuEnabled": false,
   "isInternetEnabled": true,
   "language": "python",
   "sourceType": "notebook"
  },
  "kernelspec": {
   "display_name": "Python 3",
   "language": "python",
   "name": "python3"
  },
  "language_info": {
   "codemirror_mode": {
    "name": "ipython",
    "version": 3
   },
   "file_extension": ".py",
   "mimetype": "text/x-python",
   "name": "python",
   "nbconvert_exporter": "python",
   "pygments_lexer": "ipython3",
   "version": "3.10.12"
  },
  "papermill": {
   "default_parameters": {},
   "duration": 385.958487,
   "end_time": "2025-03-04T19:30:34.168558",
   "environment_variables": {},
   "exception": null,
   "input_path": "__notebook__.ipynb",
   "output_path": "__notebook__.ipynb",
   "parameters": {},
   "start_time": "2025-03-04T19:24:08.210071",
   "version": "2.6.0"
  }
 },
 "nbformat": 4,
 "nbformat_minor": 5
}
