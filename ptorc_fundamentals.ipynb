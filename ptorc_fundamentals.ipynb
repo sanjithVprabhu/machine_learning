{
  "nbformat": 4,
  "nbformat_minor": 0,
  "metadata": {
    "colab": {
      "provenance": [],
      "authorship_tag": "ABX9TyNEaxZwi3ZqM8eFvAe7M3hP",
      "include_colab_link": true
    },
    "kernelspec": {
      "name": "python3",
      "display_name": "Python 3"
    },
    "language_info": {
      "name": "python"
    }
  },
  "cells": [
    {
      "cell_type": "markdown",
      "metadata": {
        "id": "view-in-github",
        "colab_type": "text"
      },
      "source": [
        "<a href=\"https://colab.research.google.com/github/sanjithVprabhu/machine_learning/blob/main/ptorc_fundamentals.ipynb\" target=\"_parent\"><img src=\"https://colab.research.google.com/assets/colab-badge.svg\" alt=\"Open In Colab\"/></a>"
      ]
    },
    {
      "cell_type": "code",
      "execution_count": 1,
      "metadata": {
        "colab": {
          "base_uri": "https://localhost:8080/"
        },
        "id": "wESigqtMFOOS",
        "outputId": "1fc04a65-7e91-4ae7-9c91-1758c45b3dcf"
      },
      "outputs": [
        {
          "output_type": "stream",
          "name": "stdout",
          "text": [
            "Lets begin writing some code\n"
          ]
        }
      ],
      "source": [
        "print(\"Lets begin writing some code\")"
      ]
    },
    {
      "cell_type": "code",
      "source": [
        "!nvidia_smi"
      ],
      "metadata": {
        "colab": {
          "base_uri": "https://localhost:8080/"
        },
        "id": "t7Oc7cEGFgsl",
        "outputId": "9df3fce5-e271-4752-d3f4-a8abaf4aae39"
      },
      "execution_count": 3,
      "outputs": [
        {
          "output_type": "stream",
          "name": "stdout",
          "text": [
            "/bin/bash: line 1: nvidia_smi: command not found\n"
          ]
        }
      ]
    },
    {
      "cell_type": "code",
      "source": [
        "import torch\n",
        "import pandas as pd\n",
        "import numpy as np\n",
        "import matplotlib.pyplot as plt\n",
        "print(torch.__version__)"
      ],
      "metadata": {
        "colab": {
          "base_uri": "https://localhost:8080/"
        },
        "id": "hoNxOVfYFxnr",
        "outputId": "7da025a8-daaa-459c-cb65-01e00bf8de14"
      },
      "execution_count": 41,
      "outputs": [
        {
          "output_type": "stream",
          "name": "stdout",
          "text": [
            "2.5.1+cu124\n"
          ]
        }
      ]
    },
    {
      "cell_type": "code",
      "source": [
        "##Introduction To Tensors"
      ],
      "metadata": {
        "id": "jvPk7ZHVGX5C"
      },
      "execution_count": 9,
      "outputs": []
    },
    {
      "cell_type": "code",
      "source": [
        "scalar = torch.tensor(7)\n",
        "scalar"
      ],
      "metadata": {
        "colab": {
          "base_uri": "https://localhost:8080/"
        },
        "id": "J9Q32NMxHPAf",
        "outputId": "373f414a-e778-4d26-9256-1ccf88d4f8da"
      },
      "execution_count": 11,
      "outputs": [
        {
          "output_type": "execute_result",
          "data": {
            "text/plain": [
              "tensor(7)"
            ]
          },
          "metadata": {},
          "execution_count": 10
        },
        {
          "output_type": "execute_result",
          "data": {
            "text/plain": [
              "tensor(7)"
            ]
          },
          "metadata": {},
          "execution_count": 11
        }
      ]
    },
    {
      "cell_type": "code",
      "source": [
        "scalar.ndim"
      ],
      "metadata": {
        "colab": {
          "base_uri": "https://localhost:8080/"
        },
        "id": "8R3Kxib1TTWJ",
        "outputId": "cebda1d7-a85e-45da-dba6-39a38b823f26"
      },
      "execution_count": 12,
      "outputs": [
        {
          "output_type": "execute_result",
          "data": {
            "text/plain": [
              "0"
            ]
          },
          "metadata": {},
          "execution_count": 12
        }
      ]
    },
    {
      "cell_type": "code",
      "source": [
        "scalar.item()"
      ],
      "metadata": {
        "colab": {
          "base_uri": "https://localhost:8080/"
        },
        "id": "gi9hrCmRTz1Q",
        "outputId": "864c1f4d-1f08-4d8c-b2d6-f07231884339"
      },
      "execution_count": 13,
      "outputs": [
        {
          "output_type": "execute_result",
          "data": {
            "text/plain": [
              "7"
            ]
          },
          "metadata": {},
          "execution_count": 13
        }
      ]
    },
    {
      "cell_type": "code",
      "source": [
        "#Vector"
      ],
      "metadata": {
        "id": "0AhKjhRgT5sJ"
      },
      "execution_count": 14,
      "outputs": []
    },
    {
      "cell_type": "code",
      "source": [
        "vector = torch.tensor([7,7])"
      ],
      "metadata": {
        "id": "z2mtpUN8T8bk"
      },
      "execution_count": 15,
      "outputs": []
    },
    {
      "cell_type": "code",
      "source": [
        "vector"
      ],
      "metadata": {
        "colab": {
          "base_uri": "https://localhost:8080/"
        },
        "id": "S6iWa6KEUAJJ",
        "outputId": "808b16b3-2c1d-48e6-be57-a62af166b1ca"
      },
      "execution_count": 16,
      "outputs": [
        {
          "output_type": "execute_result",
          "data": {
            "text/plain": [
              "tensor([7, 7])"
            ]
          },
          "metadata": {},
          "execution_count": 16
        }
      ]
    },
    {
      "cell_type": "code",
      "source": [
        "vector.ndim"
      ],
      "metadata": {
        "colab": {
          "base_uri": "https://localhost:8080/"
        },
        "id": "iPTrEUvGUBHx",
        "outputId": "f64d4c8b-0803-4554-fe63-2e9f2d63538a"
      },
      "execution_count": 17,
      "outputs": [
        {
          "output_type": "execute_result",
          "data": {
            "text/plain": [
              "1"
            ]
          },
          "metadata": {},
          "execution_count": 17
        }
      ]
    },
    {
      "cell_type": "code",
      "source": [
        "vector.shape"
      ],
      "metadata": {
        "colab": {
          "base_uri": "https://localhost:8080/"
        },
        "id": "UVHYtO5PUNeJ",
        "outputId": "d9e7a63a-3101-4952-c6e6-a08b82463ab7"
      },
      "execution_count": 18,
      "outputs": [
        {
          "output_type": "execute_result",
          "data": {
            "text/plain": [
              "torch.Size([2])"
            ]
          },
          "metadata": {},
          "execution_count": 18
        }
      ]
    },
    {
      "cell_type": "code",
      "source": [
        "#matrix"
      ],
      "metadata": {
        "id": "9sgOP06qURaT"
      },
      "execution_count": 19,
      "outputs": []
    },
    {
      "cell_type": "code",
      "source": [
        "MATRIX = torch.tensor([[7,8],[3,4]])"
      ],
      "metadata": {
        "id": "FY9p8PrjUZDW"
      },
      "execution_count": 20,
      "outputs": []
    },
    {
      "cell_type": "code",
      "source": [
        "MATRIX.ndim"
      ],
      "metadata": {
        "colab": {
          "base_uri": "https://localhost:8080/"
        },
        "id": "2NhZ1i7PUfKM",
        "outputId": "24b07250-da48-491e-a749-ab06d09dc170"
      },
      "execution_count": 21,
      "outputs": [
        {
          "output_type": "execute_result",
          "data": {
            "text/plain": [
              "2"
            ]
          },
          "metadata": {},
          "execution_count": 21
        }
      ]
    },
    {
      "cell_type": "code",
      "source": [
        "MATRIX.shape"
      ],
      "metadata": {
        "colab": {
          "base_uri": "https://localhost:8080/"
        },
        "id": "AMmrUo2bUhOy",
        "outputId": "a5158317-8bf2-4592-814f-2778cb063114"
      },
      "execution_count": 22,
      "outputs": [
        {
          "output_type": "execute_result",
          "data": {
            "text/plain": [
              "torch.Size([2, 2])"
            ]
          },
          "metadata": {},
          "execution_count": 22
        }
      ]
    },
    {
      "cell_type": "code",
      "source": [
        "TENSOR = torch.tensor([[[1,2,3],[3,6,9],[7,8,9]]])"
      ],
      "metadata": {
        "id": "USndsK4OUi_8"
      },
      "execution_count": 23,
      "outputs": []
    },
    {
      "cell_type": "code",
      "source": [
        "TENSOR"
      ],
      "metadata": {
        "colab": {
          "base_uri": "https://localhost:8080/"
        },
        "id": "N4AOqnFWVGCY",
        "outputId": "d81bfea9-353b-4e1d-d7b3-e42263595f66"
      },
      "execution_count": 24,
      "outputs": [
        {
          "output_type": "execute_result",
          "data": {
            "text/plain": [
              "tensor([[[1, 2, 3],\n",
              "         [3, 6, 9],\n",
              "         [7, 8, 9]]])"
            ]
          },
          "metadata": {},
          "execution_count": 24
        }
      ]
    },
    {
      "cell_type": "code",
      "source": [
        "TENSOR.ndim\n"
      ],
      "metadata": {
        "colab": {
          "base_uri": "https://localhost:8080/"
        },
        "id": "cDzlio6TVJFu",
        "outputId": "139b849a-0d63-42aa-e859-eae767aaa479"
      },
      "execution_count": 27,
      "outputs": [
        {
          "output_type": "execute_result",
          "data": {
            "text/plain": [
              "3"
            ]
          },
          "metadata": {},
          "execution_count": 27
        }
      ]
    },
    {
      "cell_type": "code",
      "source": [
        "TENSOR.shape"
      ],
      "metadata": {
        "colab": {
          "base_uri": "https://localhost:8080/"
        },
        "id": "mWNYBXl-VopJ",
        "outputId": "e4c5c9f4-a970-4f43-e31b-cb6b054e5673"
      },
      "execution_count": 26,
      "outputs": [
        {
          "output_type": "execute_result",
          "data": {
            "text/plain": [
              "torch.Size([1, 3, 3])"
            ]
          },
          "metadata": {},
          "execution_count": 26
        }
      ]
    },
    {
      "cell_type": "code",
      "source": [
        "random_tensor = torch.rand(4,5,6)"
      ],
      "metadata": {
        "id": "kQsEJnoyVsdJ"
      },
      "execution_count": 28,
      "outputs": []
    },
    {
      "cell_type": "code",
      "source": [
        "random_image = torch.rand(size=(224,224,3))"
      ],
      "metadata": {
        "id": "E8iYETy2XMih"
      },
      "execution_count": 31,
      "outputs": []
    },
    {
      "cell_type": "markdown",
      "source": [
        "##Zeroes and Ones\n"
      ],
      "metadata": {
        "id": "NSV7gGwyX2KA"
      }
    },
    {
      "cell_type": "code",
      "source": [
        "zeros = torch.zeros(size=(3,4))"
      ],
      "metadata": {
        "id": "I7mmjiyMa2va"
      },
      "execution_count": 33,
      "outputs": []
    },
    {
      "cell_type": "code",
      "source": [
        "ones = torch.ones(3,4)"
      ],
      "metadata": {
        "id": "Q2k18qena_kC"
      },
      "execution_count": 34,
      "outputs": []
    },
    {
      "cell_type": "code",
      "source": [
        "ones.dtype"
      ],
      "metadata": {
        "colab": {
          "base_uri": "https://localhost:8080/"
        },
        "id": "mTMhq-N_bD-4",
        "outputId": "ea95fb6e-78f5-415a-f3e1-89bea18248a7"
      },
      "execution_count": 35,
      "outputs": [
        {
          "output_type": "execute_result",
          "data": {
            "text/plain": [
              "torch.float32"
            ]
          },
          "metadata": {},
          "execution_count": 35
        }
      ]
    },
    {
      "cell_type": "markdown",
      "source": [
        "#use torch.range()"
      ],
      "metadata": {
        "id": "xBXT9yX0bHTr"
      }
    },
    {
      "cell_type": "code",
      "source": [
        "torch_range = torch.arange(0,10)\n",
        "print(torch_range)"
      ],
      "metadata": {
        "colab": {
          "base_uri": "https://localhost:8080/"
        },
        "id": "kKvDfe0Hbv1S",
        "outputId": "189f1d84-9faa-41ff-f138-fb1278024e24"
      },
      "execution_count": 38,
      "outputs": [
        {
          "output_type": "stream",
          "name": "stdout",
          "text": [
            "tensor([0, 1, 2, 3, 4, 5, 6, 7, 8, 9])\n"
          ]
        }
      ]
    },
    {
      "cell_type": "code",
      "source": [
        "torch.rand(3,3)"
      ],
      "metadata": {
        "colab": {
          "base_uri": "https://localhost:8080/"
        },
        "id": "QdClAdcyb3fW",
        "outputId": "701bc429-8c7d-490c-d796-5f257468390b"
      },
      "execution_count": 3,
      "outputs": [
        {
          "output_type": "execute_result",
          "data": {
            "text/plain": [
              "tensor([[0.6770, 0.0449, 0.9353],\n",
              "        [0.0171, 0.4888, 0.2734],\n",
              "        [0.0605, 0.3205, 0.5334]])"
            ]
          },
          "metadata": {},
          "execution_count": 3
        }
      ]
    },
    {
      "cell_type": "code",
      "source": [],
      "metadata": {
        "id": "19Q5tY1VTZdG"
      },
      "execution_count": 4,
      "outputs": []
    },
    {
      "cell_type": "code",
      "source": [
        "random_tensor_B = torch.rand(3,4)\n",
        "random_tensor_A = torch.rand(3,4)\n",
        "print(random_tensor_A)\n",
        "print(random_tensor_B)"
      ],
      "metadata": {
        "colab": {
          "base_uri": "https://localhost:8080/"
        },
        "id": "relTTNpKTyHT",
        "outputId": "1886c609-ced5-4c09-ed0b-527f49f8c8c4"
      },
      "execution_count": 5,
      "outputs": [
        {
          "output_type": "stream",
          "name": "stdout",
          "text": [
            "tensor([[0.1783, 0.5409, 0.6029, 0.9384],\n",
            "        [0.3029, 0.6336, 0.6165, 0.6696],\n",
            "        [0.1070, 0.9377, 0.0810, 0.8153]])\n",
            "tensor([[0.9544, 0.3887, 0.6831, 0.7906],\n",
            "        [0.2308, 0.3108, 0.1225, 0.0973],\n",
            "        [0.0108, 0.3383, 0.7085, 0.9434]])\n"
          ]
        }
      ]
    },
    {
      "cell_type": "code",
      "source": [
        "import torch\n",
        "RANDOM_SEED =42\n",
        "torch.manual_seed(RANDOM_SEED)\n",
        "random_tensor_C = torch.rand(3,4)\n",
        "torch.manual_seed(RANDOM_SEED)\n",
        "\n",
        "random_tensor_D = torch.rand(3,4)\n",
        "print(random_tensor_C)\n",
        "print(random_tensor_D)"
      ],
      "metadata": {
        "colab": {
          "base_uri": "https://localhost:8080/"
        },
        "id": "LrtBJug1T-Bj",
        "outputId": "67a56100-2b0a-4e6d-a49f-02db4cb2e04d"
      },
      "execution_count": 42,
      "outputs": [
        {
          "output_type": "stream",
          "name": "stdout",
          "text": [
            "tensor([[0.8823, 0.9150, 0.3829, 0.9593],\n",
            "        [0.3904, 0.6009, 0.2566, 0.7936],\n",
            "        [0.9408, 0.1332, 0.9346, 0.5936]])\n",
            "tensor([[0.8823, 0.9150, 0.3829, 0.9593],\n",
            "        [0.3904, 0.6009, 0.2566, 0.7936],\n",
            "        [0.9408, 0.1332, 0.9346, 0.5936]])\n"
          ]
        }
      ]
    },
    {
      "cell_type": "code",
      "source": [
        "!nividia-smi"
      ],
      "metadata": {
        "colab": {
          "base_uri": "https://localhost:8080/"
        },
        "id": "xfwNTmD7UnSF",
        "outputId": "4d2500a8-950c-4d89-d51b-d4dc81f0f644"
      },
      "execution_count": 11,
      "outputs": [
        {
          "output_type": "stream",
          "name": "stdout",
          "text": [
            "/bin/bash: line 1: nividia-smi: command not found\n"
          ]
        }
      ]
    },
    {
      "cell_type": "code",
      "source": [
        "import torch\n",
        "from torch import nn #nn contains all of pytorchs building blocks\n",
        "import matplotlib.pyplot as plt\n",
        "torch.__version__"
      ],
      "metadata": {
        "colab": {
          "base_uri": "https://localhost:8080/",
          "height": 36
        },
        "id": "5OQpdqxYXirQ",
        "outputId": "74bdc83c-dc8b-4175-e0ae-a161ef1fef9c"
      },
      "execution_count": 43,
      "outputs": [
        {
          "output_type": "execute_result",
          "data": {
            "text/plain": [
              "'2.5.1+cu124'"
            ],
            "application/vnd.google.colaboratory.intrinsic+json": {
              "type": "string"
            }
          },
          "metadata": {},
          "execution_count": 43
        }
      ]
    },
    {
      "cell_type": "markdown",
      "source": [
        "Data Preparation\n"
      ],
      "metadata": {
        "id": "Uacpu6lryZXJ"
      }
    },
    {
      "cell_type": "markdown",
      "source": [],
      "metadata": {
        "id": "5Qz92KDi0ueU"
      }
    },
    {
      "cell_type": "code",
      "source": [
        "\n",
        "weight=0.7\n",
        "bias=0.3\n",
        "start=0\n",
        "end=1\n",
        "step=0.02\n",
        "X=torch.arange(start,end,step).unsqueeze(dim=1)\n",
        "y=weight*X+bias\n",
        "len(X),len(y)"
      ],
      "metadata": {
        "colab": {
          "base_uri": "https://localhost:8080/"
        },
        "id": "k6lBBmqB1WnM",
        "outputId": "10eac27a-2b25-449c-ee9f-01ea4af63848"
      },
      "execution_count": 44,
      "outputs": [
        {
          "output_type": "execute_result",
          "data": {
            "text/plain": [
              "(50, 50)"
            ]
          },
          "metadata": {},
          "execution_count": 44
        }
      ]
    },
    {
      "cell_type": "code",
      "source": [
        "X_train = X[:int(0.8*len(X))]\n",
        "y_train = y[:int(0.8*len(y))]\n",
        "X_test = X[int(0.8*len(X)):]\n",
        "y_test = y[int(0.8*len(y)):]\n",
        "len(X_train),len(y_train),len(X_test),len(y_test)\n",
        "\n",
        "def plot_predictions(train_data=X_train,\n",
        "                     train_labels=y_train,\n",
        "                     test_data=X_test,\n",
        "                     test_labels=y_test,\n",
        "                     predictions=None):\n",
        "  plt.figure(figsize=(10,7))\n",
        "  plt.scatter(train_data,train_labels,c=\"b\",s=4,label=\"Training data\")\n",
        "  plt.scatter(test_data,test_labels,c=\"g\",s=4,label=\"Testing data\")\n",
        "  if predictions is not None:\n",
        "    plt.scatter(test_data,predictions,c=\"r\",s=4,label=\"Predictions\")\n",
        "  plt.legend(prop={\"size\":14})\n",
        "\n"
      ],
      "metadata": {
        "id": "x_wKLRzo1bEK"
      },
      "execution_count": 45,
      "outputs": []
    },
    {
      "cell_type": "code",
      "source": [
        "plot_predictions();"
      ],
      "metadata": {
        "colab": {
          "base_uri": "https://localhost:8080/",
          "height": 471
        },
        "id": "pHmZ2PtaUJSV",
        "outputId": "da66e2df-f861-4274-d710-cd1305aabdd6"
      },
      "execution_count": 46,
      "outputs": [
        {
          "output_type": "display_data",
          "data": {
            "text/plain": [
              "<Figure size 1000x700 with 1 Axes>"
            ],
            "image/png": "[encoded data removed]"
          },
          "metadata": {}
        }
      ]
    },
    {
      "cell_type": "markdown",
      "source": [
        "## Build Model\n"
      ],
      "metadata": {
        "id": "u_J2VMfCU8wF"
      }
    },
    {
      "cell_type": "markdown",
      "source": [
        "torch.nn - consists of all the modules in the neural network\n",
        "torch.nn.parameter - parameters of your module\n",
        "torch.nn.module - base class for all nns\n",
        "torch.optim - optimising function\n",
        "torch.utils.data.Dataset - map between key and sample pairs of your data\n",
        "torch.util.data.Dataloader - creates"
      ],
      "metadata": {
        "id": "k5YMD2fvVdEt"
      }
    },
    {
      "cell_type": "code",
      "source": [
        "#Create a linear regression model class\n",
        "class LinearRegressionModel(nn.Module):#almost everything in pytorhc inherits from nn.module\n",
        "  def __init__(self):\n",
        "    super().__init__()\n",
        "    self.weights = nn.Parameter(torch.randn(1,requires_grad=True,dtype=torch.float))\n",
        "    self.bias = nn.Parameter(torch.randn(1,requires_grad=True,dtype=torch.float))\n",
        "\n",
        "  def forward(self,x:torch.Tensor) -> torch.Tensor:\n",
        "    return self.weights * x + self.bias\n",
        ""
      ],
      "metadata": {
        "id": "7UDyQPuptB_r"
      },
      "execution_count": 47,
      "outputs": []
    },
    {
      "cell_type": "code",
      "source": [
        "torch.manual_seed(42)\n",
        "model = LinearRegressionModel()\n",
        "list(model.parameters())\n"
      ],
      "metadata": {
        "colab": {
          "base_uri": "https://localhost:8080/"
        },
        "id": "A_V3mn2guDI0",
        "outputId": "a64896c3-c3e4-40e6-8314-074edb6b537c"
      },
      "execution_count": 48,
      "outputs": [
        {
          "output_type": "execute_result",
          "data": {
            "text/plain": [
              "[Parameter containing:\n",
              " tensor([0.3367], requires_grad=True),\n",
              " Parameter containing:\n",
              " tensor([0.1288], requires_grad=True)]"
            ]
          },
          "metadata": {},
          "execution_count": 48
        }
      ]
    },
    {
      "cell_type": "code",
      "source": [
        "# List named parameters\n",
        "model.state_dict()"
      ],
      "metadata": {
        "colab": {
          "base_uri": "https://localhost:8080/"
        },
        "id": "tchwOdcLDp8E",
        "outputId": "ece7524d-2724-4556-c2a8-60a95e5a009e"
      },
      "execution_count": 49,
      "outputs": [
        {
          "output_type": "execute_result",
          "data": {
            "text/plain": [
              "OrderedDict([('weights', tensor([0.3367])), ('bias', tensor([0.1288]))])"
            ]
          },
          "metadata": {},
          "execution_count": 49
        }
      ]
    },
    {
      "cell_type": "code",
      "source": [
        "with torch.inference_mode():\n",
        "  y_preds = model(X_test)\n",
        "plot_predictions(predictions=y_preds)\n"
      ],
      "metadata": {
        "colab": {
          "base_uri": "https://localhost:8080/",
          "height": 471
        },
        "id": "2x5QSIF0DtSV",
        "outputId": "3f9770b9-d881-424e-e51a-2ff0d3dbc0d6"
      },
      "execution_count": 50,
      "outputs": [
        {
          "output_type": "display_data",
          "data": {
            "text/plain": [
              "<Figure size 1000x700 with 1 Axes>"
            ],
            "image/png": "[encoded data removed]"
          },
          "metadata": {}
        }
      ]
    },
    {
      "cell_type": "code",
      "source": [
        "# Check the predictions\n",
        "print(f\"Number of testing samples: {len(X_test)}\")\n",
        "print(f\"Number of predictions made: {len(y_preds)}\")\n",
        "print(f\"Predicted values:\\n{y_preds}\")"
      ],
      "metadata": {
        "colab": {
          "base_uri": "https://localhost:8080/"
        },
        "id": "7rgziEcjEd_A",
        "outputId": "92b61b34-b8fa-4ab5-ad52-20a2c9751c67"
      },
      "execution_count": 51,
      "outputs": [
        {
          "output_type": "stream",
          "name": "stdout",
          "text": [
            "Number of testing samples: 10\n",
            "Number of predictions made: 10\n",
            "Predicted values:\n",
            "tensor([[0.3982],\n",
            "        [0.4049],\n",
            "        [0.4116],\n",
            "        [0.4184],\n",
            "        [0.4251],\n",
            "        [0.4318],\n",
            "        [0.4386],\n",
            "        [0.4453],\n",
            "        [0.4520],\n",
            "        [0.4588]])\n"
          ]
        }
      ]
    },
    {
      "cell_type": "code",
      "source": [
        "y_test - y_preds"
      ],
      "metadata": {
        "colab": {
          "base_uri": "https://localhost:8080/"
        },
        "id": "yTyRx4vzE4CQ",
        "outputId": "04fc9169-cc20-4452-b25a-0b8dc1049128"
      },
      "execution_count": 52,
      "outputs": [
        {
          "output_type": "execute_result",
          "data": {
            "text/plain": [
              "tensor([[0.4618],\n",
              "        [0.4691],\n",
              "        [0.4764],\n",
              "        [0.4836],\n",
              "        [0.4909],\n",
              "        [0.4982],\n",
              "        [0.5054],\n",
              "        [0.5127],\n",
              "        [0.5200],\n",
              "        [0.5272]])"
            ]
          },
          "metadata": {},
          "execution_count": 52
        }
      ]
    },
    {
      "cell_type": "code",
      "source": [
        "loss_fn = nn.L1Loss()\n",
        "optimizer = torch.optim.SGD(params=model.parameters(),lr=0.01)"
      ],
      "metadata": {
        "id": "sOoFxRERFC0Y"
      },
      "execution_count": 54,
      "outputs": []
    },
    {
      "cell_type": "code",
      "source": [
        "epochs = 10000\n",
        "train_loss_values = []\n",
        "test_loss_values = []\n",
        "epoch_count = []\n",
        "\n",
        "for epoch in range(epochs):\n",
        "  model.train()\n",
        "  y_pred = model(X_train)\n",
        "  loss = loss_fn(y_pred,y_train)\n",
        "  optimizer.zero_grad()\n",
        "  loss.backward()\n",
        "  optimizer.step()\n",
        "  model.eval()\n",
        "  with torch.inference_mode():\n",
        "    test_pred = model(X_test)\n",
        "    test_loss = loss_fn(test_pred,y_test)\n",
        "    if epoch % 10 == 0:\n",
        "      epoch_count.append(epoch)\n",
        "      train_loss_values.append(loss.detach().numpy())\n",
        "      test_loss_values.append(test_loss.detach().numpy())\n",
        "      print(f\"Epoch: {epoch} | Loss: {loss} | Test loss: {test_loss}\")\n",
        "\n"
      ],
      "metadata": {
        "colab": {
          "base_uri": "https://localhost:8080/"
        },
        "id": "YSGR5z71cppq",
        "outputId": "be1e5bcd-3908-497e-ec0f-b93669569379"
      },
      "execution_count": 71,
      "outputs": [
        {
          "output_type": "stream",
          "name": "stdout",
          "text": [
            "Epoch: 0 | Loss: 0.008932482451200485 | Test loss: 0.005023092031478882\n",
            "Epoch: 10 | Loss: 0.008932482451200485 | Test loss: 0.005023092031478882\n",
            "Epoch: 20 | Loss: 0.008932482451200485 | Test loss: 0.005023092031478882\n",
            "Epoch: 30 | Loss: 0.008932482451200485 | Test loss: 0.005023092031478882\n",
            "Epoch: 40 | Loss: 0.008932482451200485 | Test loss: 0.005023092031478882\n",
            "Epoch: 50 | Loss: 0.008932482451200485 | Test loss: 0.005023092031478882\n",
            "Epoch: 60 | Loss: 0.008932482451200485 | Test loss: 0.005023092031478882\n",
            "Epoch: 70 | Loss: 0.008932482451200485 | Test loss: 0.005023092031478882\n",
            "Epoch: 80 | Loss: 0.008932482451200485 | Test loss: 0.005023092031478882\n",
            "Epoch: 90 | Loss: 0.008932482451200485 | Test loss: 0.005023092031478882\n",
            "Epoch: 100 | Loss: 0.008932482451200485 | Test loss: 0.005023092031478882\n",
            "Epoch: 110 | Loss: 0.008932482451200485 | Test loss: 0.005023092031478882\n",
            "Epoch: 120 | Loss: 0.008932482451200485 | Test loss: 0.005023092031478882\n",
            "Epoch: 130 | Loss: 0.008932482451200485 | Test loss: 0.005023092031478882\n",
            "Epoch: 140 | Loss: 0.008932482451200485 | Test loss: 0.005023092031478882\n",
            "Epoch: 150 | Loss: 0.008932482451200485 | Test loss: 0.005023092031478882\n",
            "Epoch: 160 | Loss: 0.008932482451200485 | Test loss: 0.005023092031478882\n",
            "Epoch: 170 | Loss: 0.008932482451200485 | Test loss: 0.005023092031478882\n",
            "Epoch: 180 | Loss: 0.008932482451200485 | Test loss: 0.005023092031478882\n",
            "Epoch: 190 | Loss: 0.008932482451200485 | Test loss: 0.005023092031478882\n",
            "Epoch: 200 | Loss: 0.008932482451200485 | Test loss: 0.005023092031478882\n",
            "Epoch: 210 | Loss: 0.008932482451200485 | Test loss: 0.005023092031478882\n",
            "Epoch: 220 | Loss: 0.008932482451200485 | Test loss: 0.005023092031478882\n",
            "Epoch: 230 | Loss: 0.008932482451200485 | Test loss: 0.005023092031478882\n",
            "Epoch: 240 | Loss: 0.008932482451200485 | Test loss: 0.005023092031478882\n",
            "Epoch: 250 | Loss: 0.008932482451200485 | Test loss: 0.005023092031478882\n",
            "Epoch: 260 | Loss: 0.008932482451200485 | Test loss: 0.005023092031478882\n",
            "Epoch: 270 | Loss: 0.008932482451200485 | Test loss: 0.005023092031478882\n",
            "Epoch: 280 | Loss: 0.008932482451200485 | Test loss: 0.005023092031478882\n",
            "Epoch: 290 | Loss: 0.008932482451200485 | Test loss: 0.005023092031478882\n",
            "Epoch: 300 | Loss: 0.008932482451200485 | Test loss: 0.005023092031478882\n",
            "Epoch: 310 | Loss: 0.008932482451200485 | Test loss: 0.005023092031478882\n",
            "Epoch: 320 | Loss: 0.008932482451200485 | Test loss: 0.005023092031478882\n",
            "Epoch: 330 | Loss: 0.008932482451200485 | Test loss: 0.005023092031478882\n",
            "Epoch: 340 | Loss: 0.008932482451200485 | Test loss: 0.005023092031478882\n",
            "Epoch: 350 | Loss: 0.008932482451200485 | Test loss: 0.005023092031478882\n",
            "Epoch: 360 | Loss: 0.008932482451200485 | Test loss: 0.005023092031478882\n",
            "Epoch: 370 | Loss: 0.008932482451200485 | Test loss: 0.005023092031478882\n",
            "Epoch: 380 | Loss: 0.008932482451200485 | Test loss: 0.005023092031478882\n",
            "Epoch: 390 | Loss: 0.008932482451200485 | Test loss: 0.005023092031478882\n",
            "Epoch: 400 | Loss: 0.008932482451200485 | Test loss: 0.005023092031478882\n",
            "Epoch: 410 | Loss: 0.008932482451200485 | Test loss: 0.005023092031478882\n",
            "Epoch: 420 | Loss: 0.008932482451200485 | Test loss: 0.005023092031478882\n",
            "Epoch: 430 | Loss: 0.008932482451200485 | Test loss: 0.005023092031478882\n",
            "Epoch: 440 | Loss: 0.008932482451200485 | Test loss: 0.005023092031478882\n",
            "Epoch: 450 | Loss: 0.008932482451200485 | Test loss: 0.005023092031478882\n",
            "Epoch: 460 | Loss: 0.008932482451200485 | Test loss: 0.005023092031478882\n",
            "Epoch: 470 | Loss: 0.008932482451200485 | Test loss: 0.005023092031478882\n",
            "Epoch: 480 | Loss: 0.008932482451200485 | Test loss: 0.005023092031478882\n",
            "Epoch: 490 | Loss: 0.008932482451200485 | Test loss: 0.005023092031478882\n",
            "Epoch: 500 | Loss: 0.008932482451200485 | Test loss: 0.005023092031478882\n",
            "Epoch: 510 | Loss: 0.008932482451200485 | Test loss: 0.005023092031478882\n",
            "Epoch: 520 | Loss: 0.008932482451200485 | Test loss: 0.005023092031478882\n",
            "Epoch: 530 | Loss: 0.008932482451200485 | Test loss: 0.005023092031478882\n",
            "Epoch: 540 | Loss: 0.008932482451200485 | Test loss: 0.005023092031478882\n",
            "Epoch: 550 | Loss: 0.008932482451200485 | Test loss: 0.005023092031478882\n",
            "Epoch: 560 | Loss: 0.008932482451200485 | Test loss: 0.005023092031478882\n",
            "Epoch: 570 | Loss: 0.008932482451200485 | Test loss: 0.005023092031478882\n",
            "Epoch: 580 | Loss: 0.008932482451200485 | Test loss: 0.005023092031478882\n",
            "Epoch: 590 | Loss: 0.008932482451200485 | Test loss: 0.005023092031478882\n",
            "Epoch: 600 | Loss: 0.008932482451200485 | Test loss: 0.005023092031478882\n",
            "Epoch: 610 | Loss: 0.008932482451200485 | Test loss: 0.005023092031478882\n",
            "Epoch: 620 | Loss: 0.008932482451200485 | Test loss: 0.005023092031478882\n",
            "Epoch: 630 | Loss: 0.008932482451200485 | Test loss: 0.005023092031478882\n",
            "Epoch: 640 | Loss: 0.008932482451200485 | Test loss: 0.005023092031478882\n",
            "Epoch: 650 | Loss: 0.008932482451200485 | Test loss: 0.005023092031478882\n",
            "Epoch: 660 | Loss: 0.008932482451200485 | Test loss: 0.005023092031478882\n",
            "Epoch: 670 | Loss: 0.008932482451200485 | Test loss: 0.005023092031478882\n",
            "Epoch: 680 | Loss: 0.008932482451200485 | Test loss: 0.005023092031478882\n",
            "Epoch: 690 | Loss: 0.008932482451200485 | Test loss: 0.005023092031478882\n",
            "Epoch: 700 | Loss: 0.008932482451200485 | Test loss: 0.005023092031478882\n",
            "Epoch: 710 | Loss: 0.008932482451200485 | Test loss: 0.005023092031478882\n",
            "Epoch: 720 | Loss: 0.008932482451200485 | Test loss: 0.005023092031478882\n",
            "Epoch: 730 | Loss: 0.008932482451200485 | Test loss: 0.005023092031478882\n",
            "Epoch: 740 | Loss: 0.008932482451200485 | Test loss: 0.005023092031478882\n",
            "Epoch: 750 | Loss: 0.008932482451200485 | Test loss: 0.005023092031478882\n",
            "Epoch: 760 | Loss: 0.008932482451200485 | Test loss: 0.005023092031478882\n",
            "Epoch: 770 | Loss: 0.008932482451200485 | Test loss: 0.005023092031478882\n",
            "Epoch: 780 | Loss: 0.008932482451200485 | Test loss: 0.005023092031478882\n",
            "Epoch: 790 | Loss: 0.008932482451200485 | Test loss: 0.005023092031478882\n",
            "Epoch: 800 | Loss: 0.008932482451200485 | Test loss: 0.005023092031478882\n",
            "Epoch: 810 | Loss: 0.008932482451200485 | Test loss: 0.005023092031478882\n",
            "Epoch: 820 | Loss: 0.008932482451200485 | Test loss: 0.005023092031478882\n",
            "Epoch: 830 | Loss: 0.008932482451200485 | Test loss: 0.005023092031478882\n",
            "Epoch: 840 | Loss: 0.008932482451200485 | Test loss: 0.005023092031478882\n",
            "Epoch: 850 | Loss: 0.008932482451200485 | Test loss: 0.005023092031478882\n",
            "Epoch: 860 | Loss: 0.008932482451200485 | Test loss: 0.005023092031478882\n",
            "Epoch: 870 | Loss: 0.008932482451200485 | Test loss: 0.005023092031478882\n",
            "Epoch: 880 | Loss: 0.008932482451200485 | Test loss: 0.005023092031478882\n",
            "Epoch: 890 | Loss: 0.008932482451200485 | Test loss: 0.005023092031478882\n",
            "Epoch: 900 | Loss: 0.008932482451200485 | Test loss: 0.005023092031478882\n",
            "Epoch: 910 | Loss: 0.008932482451200485 | Test loss: 0.005023092031478882\n",
            "Epoch: 920 | Loss: 0.008932482451200485 | Test loss: 0.005023092031478882\n",
            "Epoch: 930 | Loss: 0.008932482451200485 | Test loss: 0.005023092031478882\n",
            "Epoch: 940 | Loss: 0.008932482451200485 | Test loss: 0.005023092031478882\n",
            "Epoch: 950 | Loss: 0.008932482451200485 | Test loss: 0.005023092031478882\n",
            "Epoch: 960 | Loss: 0.008932482451200485 | Test loss: 0.005023092031478882\n",
            "Epoch: 970 | Loss: 0.008932482451200485 | Test loss: 0.005023092031478882\n",
            "Epoch: 980 | Loss: 0.008932482451200485 | Test loss: 0.005023092031478882\n",
            "Epoch: 990 | Loss: 0.008932482451200485 | Test loss: 0.005023092031478882\n",
            "Epoch: 1000 | Loss: 0.008932482451200485 | Test loss: 0.005023092031478882\n",
            "Epoch: 1010 | Loss: 0.008932482451200485 | Test loss: 0.005023092031478882\n",
            "Epoch: 1020 | Loss: 0.008932482451200485 | Test loss: 0.005023092031478882\n",
            "Epoch: 1030 | Loss: 0.008932482451200485 | Test loss: 0.005023092031478882\n",
            "Epoch: 1040 | Loss: 0.008932482451200485 | Test loss: 0.005023092031478882\n",
            "Epoch: 1050 | Loss: 0.008932482451200485 | Test loss: 0.005023092031478882\n",
            "Epoch: 1060 | Loss: 0.008932482451200485 | Test loss: 0.005023092031478882\n",
            "Epoch: 1070 | Loss: 0.008932482451200485 | Test loss: 0.005023092031478882\n",
            "Epoch: 1080 | Loss: 0.008932482451200485 | Test loss: 0.005023092031478882\n",
            "Epoch: 1090 | Loss: 0.008932482451200485 | Test loss: 0.005023092031478882\n",
            "Epoch: 1100 | Loss: 0.008932482451200485 | Test loss: 0.005023092031478882\n",
            "Epoch: 1110 | Loss: 0.008932482451200485 | Test loss: 0.005023092031478882\n",
            "Epoch: 1120 | Loss: 0.008932482451200485 | Test loss: 0.005023092031478882\n",
            "Epoch: 1130 | Loss: 0.008932482451200485 | Test loss: 0.005023092031478882\n",
            "Epoch: 1140 | Loss: 0.008932482451200485 | Test loss: 0.005023092031478882\n",
            "Epoch: 1150 | Loss: 0.008932482451200485 | Test loss: 0.005023092031478882\n",
            "Epoch: 1160 | Loss: 0.008932482451200485 | Test loss: 0.005023092031478882\n",
            "Epoch: 1170 | Loss: 0.008932482451200485 | Test loss: 0.005023092031478882\n",
            "Epoch: 1180 | Loss: 0.008932482451200485 | Test loss: 0.005023092031478882\n",
            "Epoch: 1190 | Loss: 0.008932482451200485 | Test loss: 0.005023092031478882\n",
            "Epoch: 1200 | Loss: 0.008932482451200485 | Test loss: 0.005023092031478882\n",
            "Epoch: 1210 | Loss: 0.008932482451200485 | Test loss: 0.005023092031478882\n",
            "Epoch: 1220 | Loss: 0.008932482451200485 | Test loss: 0.005023092031478882\n",
            "Epoch: 1230 | Loss: 0.008932482451200485 | Test loss: 0.005023092031478882\n",
            "Epoch: 1240 | Loss: 0.008932482451200485 | Test loss: 0.005023092031478882\n",
            "Epoch: 1250 | Loss: 0.008932482451200485 | Test loss: 0.005023092031478882\n",
            "Epoch: 1260 | Loss: 0.008932482451200485 | Test loss: 0.005023092031478882\n",
            "Epoch: 1270 | Loss: 0.008932482451200485 | Test loss: 0.005023092031478882\n",
            "Epoch: 1280 | Loss: 0.008932482451200485 | Test loss: 0.005023092031478882\n",
            "Epoch: 1290 | Loss: 0.008932482451200485 | Test loss: 0.005023092031478882\n",
            "Epoch: 1300 | Loss: 0.008932482451200485 | Test loss: 0.005023092031478882\n",
            "Epoch: 1310 | Loss: 0.008932482451200485 | Test loss: 0.005023092031478882\n",
            "Epoch: 1320 | Loss: 0.008932482451200485 | Test loss: 0.005023092031478882\n",
            "Epoch: 1330 | Loss: 0.008932482451200485 | Test loss: 0.005023092031478882\n",
            "Epoch: 1340 | Loss: 0.008932482451200485 | Test loss: 0.005023092031478882\n",
            "Epoch: 1350 | Loss: 0.008932482451200485 | Test loss: 0.005023092031478882\n",
            "Epoch: 1360 | Loss: 0.008932482451200485 | Test loss: 0.005023092031478882\n",
            "Epoch: 1370 | Loss: 0.008932482451200485 | Test loss: 0.005023092031478882\n",
            "Epoch: 1380 | Loss: 0.008932482451200485 | Test loss: 0.005023092031478882\n",
            "Epoch: 1390 | Loss: 0.008932482451200485 | Test loss: 0.005023092031478882\n",
            "Epoch: 1400 | Loss: 0.008932482451200485 | Test loss: 0.005023092031478882\n",
            "Epoch: 1410 | Loss: 0.008932482451200485 | Test loss: 0.005023092031478882\n",
            "Epoch: 1420 | Loss: 0.008932482451200485 | Test loss: 0.005023092031478882\n",
            "Epoch: 1430 | Loss: 0.008932482451200485 | Test loss: 0.005023092031478882\n",
            "Epoch: 1440 | Loss: 0.008932482451200485 | Test loss: 0.005023092031478882\n",
            "Epoch: 1450 | Loss: 0.008932482451200485 | Test loss: 0.005023092031478882\n",
            "Epoch: 1460 | Loss: 0.008932482451200485 | Test loss: 0.005023092031478882\n",
            "Epoch: 1470 | Loss: 0.008932482451200485 | Test loss: 0.005023092031478882\n",
            "Epoch: 1480 | Loss: 0.008932482451200485 | Test loss: 0.005023092031478882\n",
            "Epoch: 1490 | Loss: 0.008932482451200485 | Test loss: 0.005023092031478882\n",
            "Epoch: 1500 | Loss: 0.008932482451200485 | Test loss: 0.005023092031478882\n",
            "Epoch: 1510 | Loss: 0.008932482451200485 | Test loss: 0.005023092031478882\n",
            "Epoch: 1520 | Loss: 0.008932482451200485 | Test loss: 0.005023092031478882\n",
            "Epoch: 1530 | Loss: 0.008932482451200485 | Test loss: 0.005023092031478882\n",
            "Epoch: 1540 | Loss: 0.008932482451200485 | Test loss: 0.005023092031478882\n",
            "Epoch: 1550 | Loss: 0.008932482451200485 | Test loss: 0.005023092031478882\n",
            "Epoch: 1560 | Loss: 0.008932482451200485 | Test loss: 0.005023092031478882\n",
            "Epoch: 1570 | Loss: 0.008932482451200485 | Test loss: 0.005023092031478882\n",
            "Epoch: 1580 | Loss: 0.008932482451200485 | Test loss: 0.005023092031478882\n",
            "Epoch: 1590 | Loss: 0.008932482451200485 | Test loss: 0.005023092031478882\n",
            "Epoch: 1600 | Loss: 0.008932482451200485 | Test loss: 0.005023092031478882\n",
            "Epoch: 1610 | Loss: 0.008932482451200485 | Test loss: 0.005023092031478882\n",
            "Epoch: 1620 | Loss: 0.008932482451200485 | Test loss: 0.005023092031478882\n",
            "Epoch: 1630 | Loss: 0.008932482451200485 | Test loss: 0.005023092031478882\n",
            "Epoch: 1640 | Loss: 0.008932482451200485 | Test loss: 0.005023092031478882\n",
            "Epoch: 1650 | Loss: 0.008932482451200485 | Test loss: 0.005023092031478882\n",
            "Epoch: 1660 | Loss: 0.008932482451200485 | Test loss: 0.005023092031478882\n",
            "Epoch: 1670 | Loss: 0.008932482451200485 | Test loss: 0.005023092031478882\n",
            "Epoch: 1680 | Loss: 0.008932482451200485 | Test loss: 0.005023092031478882\n",
            "Epoch: 1690 | Loss: 0.008932482451200485 | Test loss: 0.005023092031478882\n",
            "Epoch: 1700 | Loss: 0.008932482451200485 | Test loss: 0.005023092031478882\n",
            "Epoch: 1710 | Loss: 0.008932482451200485 | Test loss: 0.005023092031478882\n",
            "Epoch: 1720 | Loss: 0.008932482451200485 | Test loss: 0.005023092031478882\n",
            "Epoch: 1730 | Loss: 0.008932482451200485 | Test loss: 0.005023092031478882\n",
            "Epoch: 1740 | Loss: 0.008932482451200485 | Test loss: 0.005023092031478882\n",
            "Epoch: 1750 | Loss: 0.008932482451200485 | Test loss: 0.005023092031478882\n",
            "Epoch: 1760 | Loss: 0.008932482451200485 | Test loss: 0.005023092031478882\n",
            "Epoch: 1770 | Loss: 0.008932482451200485 | Test loss: 0.005023092031478882\n",
            "Epoch: 1780 | Loss: 0.008932482451200485 | Test loss: 0.005023092031478882\n",
            "Epoch: 1790 | Loss: 0.008932482451200485 | Test loss: 0.005023092031478882\n",
            "Epoch: 1800 | Loss: 0.008932482451200485 | Test loss: 0.005023092031478882\n",
            "Epoch: 1810 | Loss: 0.008932482451200485 | Test loss: 0.005023092031478882\n",
            "Epoch: 1820 | Loss: 0.008932482451200485 | Test loss: 0.005023092031478882\n",
            "Epoch: 1830 | Loss: 0.008932482451200485 | Test loss: 0.005023092031478882\n",
            "Epoch: 1840 | Loss: 0.008932482451200485 | Test loss: 0.005023092031478882\n",
            "Epoch: 1850 | Loss: 0.008932482451200485 | Test loss: 0.005023092031478882\n",
            "Epoch: 1860 | Loss: 0.008932482451200485 | Test loss: 0.005023092031478882\n",
            "Epoch: 1870 | Loss: 0.008932482451200485 | Test loss: 0.005023092031478882\n",
            "Epoch: 1880 | Loss: 0.008932482451200485 | Test loss: 0.005023092031478882\n",
            "Epoch: 1890 | Loss: 0.008932482451200485 | Test loss: 0.005023092031478882\n",
            "Epoch: 1900 | Loss: 0.008932482451200485 | Test loss: 0.005023092031478882\n",
            "Epoch: 1910 | Loss: 0.008932482451200485 | Test loss: 0.005023092031478882\n",
            "Epoch: 1920 | Loss: 0.008932482451200485 | Test loss: 0.005023092031478882\n",
            "Epoch: 1930 | Loss: 0.008932482451200485 | Test loss: 0.005023092031478882\n",
            "Epoch: 1940 | Loss: 0.008932482451200485 | Test loss: 0.005023092031478882\n",
            "Epoch: 1950 | Loss: 0.008932482451200485 | Test loss: 0.005023092031478882\n",
            "Epoch: 1960 | Loss: 0.008932482451200485 | Test loss: 0.005023092031478882\n",
            "Epoch: 1970 | Loss: 0.008932482451200485 | Test loss: 0.005023092031478882\n",
            "Epoch: 1980 | Loss: 0.008932482451200485 | Test loss: 0.005023092031478882\n",
            "Epoch: 1990 | Loss: 0.008932482451200485 | Test loss: 0.005023092031478882\n",
            "Epoch: 2000 | Loss: 0.008932482451200485 | Test loss: 0.005023092031478882\n",
            "Epoch: 2010 | Loss: 0.008932482451200485 | Test loss: 0.005023092031478882\n",
            "Epoch: 2020 | Loss: 0.008932482451200485 | Test loss: 0.005023092031478882\n",
            "Epoch: 2030 | Loss: 0.008932482451200485 | Test loss: 0.005023092031478882\n",
            "Epoch: 2040 | Loss: 0.008932482451200485 | Test loss: 0.005023092031478882\n",
            "Epoch: 2050 | Loss: 0.008932482451200485 | Test loss: 0.005023092031478882\n",
            "Epoch: 2060 | Loss: 0.008932482451200485 | Test loss: 0.005023092031478882\n",
            "Epoch: 2070 | Loss: 0.008932482451200485 | Test loss: 0.005023092031478882\n",
            "Epoch: 2080 | Loss: 0.008932482451200485 | Test loss: 0.005023092031478882\n",
            "Epoch: 2090 | Loss: 0.008932482451200485 | Test loss: 0.005023092031478882\n",
            "Epoch: 2100 | Loss: 0.008932482451200485 | Test loss: 0.005023092031478882\n",
            "Epoch: 2110 | Loss: 0.008932482451200485 | Test loss: 0.005023092031478882\n",
            "Epoch: 2120 | Loss: 0.008932482451200485 | Test loss: 0.005023092031478882\n",
            "Epoch: 2130 | Loss: 0.008932482451200485 | Test loss: 0.005023092031478882\n",
            "Epoch: 2140 | Loss: 0.008932482451200485 | Test loss: 0.005023092031478882\n",
            "Epoch: 2150 | Loss: 0.008932482451200485 | Test loss: 0.005023092031478882\n",
            "Epoch: 2160 | Loss: 0.008932482451200485 | Test loss: 0.005023092031478882\n",
            "Epoch: 2170 | Loss: 0.008932482451200485 | Test loss: 0.005023092031478882\n",
            "Epoch: 2180 | Loss: 0.008932482451200485 | Test loss: 0.005023092031478882\n",
            "Epoch: 2190 | Loss: 0.008932482451200485 | Test loss: 0.005023092031478882\n",
            "Epoch: 2200 | Loss: 0.008932482451200485 | Test loss: 0.005023092031478882\n",
            "Epoch: 2210 | Loss: 0.008932482451200485 | Test loss: 0.005023092031478882\n",
            "Epoch: 2220 | Loss: 0.008932482451200485 | Test loss: 0.005023092031478882\n",
            "Epoch: 2230 | Loss: 0.008932482451200485 | Test loss: 0.005023092031478882\n",
            "Epoch: 2240 | Loss: 0.008932482451200485 | Test loss: 0.005023092031478882\n",
            "Epoch: 2250 | Loss: 0.008932482451200485 | Test loss: 0.005023092031478882\n",
            "Epoch: 2260 | Loss: 0.008932482451200485 | Test loss: 0.005023092031478882\n",
            "Epoch: 2270 | Loss: 0.008932482451200485 | Test loss: 0.005023092031478882\n",
            "Epoch: 2280 | Loss: 0.008932482451200485 | Test loss: 0.005023092031478882\n",
            "Epoch: 2290 | Loss: 0.008932482451200485 | Test loss: 0.005023092031478882\n",
            "Epoch: 2300 | Loss: 0.008932482451200485 | Test loss: 0.005023092031478882\n",
            "Epoch: 2310 | Loss: 0.008932482451200485 | Test loss: 0.005023092031478882\n",
            "Epoch: 2320 | Loss: 0.008932482451200485 | Test loss: 0.005023092031478882\n",
            "Epoch: 2330 | Loss: 0.008932482451200485 | Test loss: 0.005023092031478882\n",
            "Epoch: 2340 | Loss: 0.008932482451200485 | Test loss: 0.005023092031478882\n",
            "Epoch: 2350 | Loss: 0.008932482451200485 | Test loss: 0.005023092031478882\n",
            "Epoch: 2360 | Loss: 0.008932482451200485 | Test loss: 0.005023092031478882\n",
            "Epoch: 2370 | Loss: 0.008932482451200485 | Test loss: 0.005023092031478882\n",
            "Epoch: 2380 | Loss: 0.008932482451200485 | Test loss: 0.005023092031478882\n",
            "Epoch: 2390 | Loss: 0.008932482451200485 | Test loss: 0.005023092031478882\n",
            "Epoch: 2400 | Loss: 0.008932482451200485 | Test loss: 0.005023092031478882\n",
            "Epoch: 2410 | Loss: 0.008932482451200485 | Test loss: 0.005023092031478882\n",
            "Epoch: 2420 | Loss: 0.008932482451200485 | Test loss: 0.005023092031478882\n",
            "Epoch: 2430 | Loss: 0.008932482451200485 | Test loss: 0.005023092031478882\n",
            "Epoch: 2440 | Loss: 0.008932482451200485 | Test loss: 0.005023092031478882\n",
            "Epoch: 2450 | Loss: 0.008932482451200485 | Test loss: 0.005023092031478882\n",
            "Epoch: 2460 | Loss: 0.008932482451200485 | Test loss: 0.005023092031478882\n",
            "Epoch: 2470 | Loss: 0.008932482451200485 | Test loss: 0.005023092031478882\n",
            "Epoch: 2480 | Loss: 0.008932482451200485 | Test loss: 0.005023092031478882\n",
            "Epoch: 2490 | Loss: 0.008932482451200485 | Test loss: 0.005023092031478882\n",
            "Epoch: 2500 | Loss: 0.008932482451200485 | Test loss: 0.005023092031478882\n",
            "Epoch: 2510 | Loss: 0.008932482451200485 | Test loss: 0.005023092031478882\n",
            "Epoch: 2520 | Loss: 0.008932482451200485 | Test loss: 0.005023092031478882\n",
            "Epoch: 2530 | Loss: 0.008932482451200485 | Test loss: 0.005023092031478882\n",
            "Epoch: 2540 | Loss: 0.008932482451200485 | Test loss: 0.005023092031478882\n",
            "Epoch: 2550 | Loss: 0.008932482451200485 | Test loss: 0.005023092031478882\n",
            "Epoch: 2560 | Loss: 0.008932482451200485 | Test loss: 0.005023092031478882\n",
            "Epoch: 2570 | Loss: 0.008932482451200485 | Test loss: 0.005023092031478882\n",
            "Epoch: 2580 | Loss: 0.008932482451200485 | Test loss: 0.005023092031478882\n",
            "Epoch: 2590 | Loss: 0.008932482451200485 | Test loss: 0.005023092031478882\n",
            "Epoch: 2600 | Loss: 0.008932482451200485 | Test loss: 0.005023092031478882\n",
            "Epoch: 2610 | Loss: 0.008932482451200485 | Test loss: 0.005023092031478882\n",
            "Epoch: 2620 | Loss: 0.008932482451200485 | Test loss: 0.005023092031478882\n",
            "Epoch: 2630 | Loss: 0.008932482451200485 | Test loss: 0.005023092031478882\n",
            "Epoch: 2640 | Loss: 0.008932482451200485 | Test loss: 0.005023092031478882\n",
            "Epoch: 2650 | Loss: 0.008932482451200485 | Test loss: 0.005023092031478882\n",
            "Epoch: 2660 | Loss: 0.008932482451200485 | Test loss: 0.005023092031478882\n",
            "Epoch: 2670 | Loss: 0.008932482451200485 | Test loss: 0.005023092031478882\n",
            "Epoch: 2680 | Loss: 0.008932482451200485 | Test loss: 0.005023092031478882\n",
            "Epoch: 2690 | Loss: 0.008932482451200485 | Test loss: 0.005023092031478882\n",
            "Epoch: 2700 | Loss: 0.008932482451200485 | Test loss: 0.005023092031478882\n",
            "Epoch: 2710 | Loss: 0.008932482451200485 | Test loss: 0.005023092031478882\n",
            "Epoch: 2720 | Loss: 0.008932482451200485 | Test loss: 0.005023092031478882\n",
            "Epoch: 2730 | Loss: 0.008932482451200485 | Test loss: 0.005023092031478882\n",
            "Epoch: 2740 | Loss: 0.008932482451200485 | Test loss: 0.005023092031478882\n",
            "Epoch: 2750 | Loss: 0.008932482451200485 | Test loss: 0.005023092031478882\n",
            "Epoch: 2760 | Loss: 0.008932482451200485 | Test loss: 0.005023092031478882\n",
            "Epoch: 2770 | Loss: 0.008932482451200485 | Test loss: 0.005023092031478882\n",
            "Epoch: 2780 | Loss: 0.008932482451200485 | Test loss: 0.005023092031478882\n",
            "Epoch: 2790 | Loss: 0.008932482451200485 | Test loss: 0.005023092031478882\n",
            "Epoch: 2800 | Loss: 0.008932482451200485 | Test loss: 0.005023092031478882\n",
            "Epoch: 2810 | Loss: 0.008932482451200485 | Test loss: 0.005023092031478882\n",
            "Epoch: 2820 | Loss: 0.008932482451200485 | Test loss: 0.005023092031478882\n",
            "Epoch: 2830 | Loss: 0.008932482451200485 | Test loss: 0.005023092031478882\n",
            "Epoch: 2840 | Loss: 0.008932482451200485 | Test loss: 0.005023092031478882\n",
            "Epoch: 2850 | Loss: 0.008932482451200485 | Test loss: 0.005023092031478882\n",
            "Epoch: 2860 | Loss: 0.008932482451200485 | Test loss: 0.005023092031478882\n",
            "Epoch: 2870 | Loss: 0.008932482451200485 | Test loss: 0.005023092031478882\n",
            "Epoch: 2880 | Loss: 0.008932482451200485 | Test loss: 0.005023092031478882\n",
            "Epoch: 2890 | Loss: 0.008932482451200485 | Test loss: 0.005023092031478882\n",
            "Epoch: 2900 | Loss: 0.008932482451200485 | Test loss: 0.005023092031478882\n",
            "Epoch: 2910 | Loss: 0.008932482451200485 | Test loss: 0.005023092031478882\n",
            "Epoch: 2920 | Loss: 0.008932482451200485 | Test loss: 0.005023092031478882\n",
            "Epoch: 2930 | Loss: 0.008932482451200485 | Test loss: 0.005023092031478882\n",
            "Epoch: 2940 | Loss: 0.008932482451200485 | Test loss: 0.005023092031478882\n",
            "Epoch: 2950 | Loss: 0.008932482451200485 | Test loss: 0.005023092031478882\n",
            "Epoch: 2960 | Loss: 0.008932482451200485 | Test loss: 0.005023092031478882\n",
            "Epoch: 2970 | Loss: 0.008932482451200485 | Test loss: 0.005023092031478882\n",
            "Epoch: 2980 | Loss: 0.008932482451200485 | Test loss: 0.005023092031478882\n",
            "Epoch: 2990 | Loss: 0.008932482451200485 | Test loss: 0.005023092031478882\n",
            "Epoch: 3000 | Loss: 0.008932482451200485 | Test loss: 0.005023092031478882\n",
            "Epoch: 3010 | Loss: 0.008932482451200485 | Test loss: 0.005023092031478882\n",
            "Epoch: 3020 | Loss: 0.008932482451200485 | Test loss: 0.005023092031478882\n",
            "Epoch: 3030 | Loss: 0.008932482451200485 | Test loss: 0.005023092031478882\n",
            "Epoch: 3040 | Loss: 0.008932482451200485 | Test loss: 0.005023092031478882\n",
            "Epoch: 3050 | Loss: 0.008932482451200485 | Test loss: 0.005023092031478882\n",
            "Epoch: 3060 | Loss: 0.008932482451200485 | Test loss: 0.005023092031478882\n",
            "Epoch: 3070 | Loss: 0.008932482451200485 | Test loss: 0.005023092031478882\n",
            "Epoch: 3080 | Loss: 0.008932482451200485 | Test loss: 0.005023092031478882\n",
            "Epoch: 3090 | Loss: 0.008932482451200485 | Test loss: 0.005023092031478882\n",
            "Epoch: 3100 | Loss: 0.008932482451200485 | Test loss: 0.005023092031478882\n",
            "Epoch: 3110 | Loss: 0.008932482451200485 | Test loss: 0.005023092031478882\n",
            "Epoch: 3120 | Loss: 0.008932482451200485 | Test loss: 0.005023092031478882\n",
            "Epoch: 3130 | Loss: 0.008932482451200485 | Test loss: 0.005023092031478882\n",
            "Epoch: 3140 | Loss: 0.008932482451200485 | Test loss: 0.005023092031478882\n",
            "Epoch: 3150 | Loss: 0.008932482451200485 | Test loss: 0.005023092031478882\n",
            "Epoch: 3160 | Loss: 0.008932482451200485 | Test loss: 0.005023092031478882\n",
            "Epoch: 3170 | Loss: 0.008932482451200485 | Test loss: 0.005023092031478882\n",
            "Epoch: 3180 | Loss: 0.008932482451200485 | Test loss: 0.005023092031478882\n",
            "Epoch: 3190 | Loss: 0.008932482451200485 | Test loss: 0.005023092031478882\n",
            "Epoch: 3200 | Loss: 0.008932482451200485 | Test loss: 0.005023092031478882\n",
            "Epoch: 3210 | Loss: 0.008932482451200485 | Test loss: 0.005023092031478882\n",
            "Epoch: 3220 | Loss: 0.008932482451200485 | Test loss: 0.005023092031478882\n",
            "Epoch: 3230 | Loss: 0.008932482451200485 | Test loss: 0.005023092031478882\n",
            "Epoch: 3240 | Loss: 0.008932482451200485 | Test loss: 0.005023092031478882\n",
            "Epoch: 3250 | Loss: 0.008932482451200485 | Test loss: 0.005023092031478882\n",
            "Epoch: 3260 | Loss: 0.008932482451200485 | Test loss: 0.005023092031478882\n",
            "Epoch: 3270 | Loss: 0.008932482451200485 | Test loss: 0.005023092031478882\n",
            "Epoch: 3280 | Loss: 0.008932482451200485 | Test loss: 0.005023092031478882\n",
            "Epoch: 3290 | Loss: 0.008932482451200485 | Test loss: 0.005023092031478882\n",
            "Epoch: 3300 | Loss: 0.008932482451200485 | Test loss: 0.005023092031478882\n",
            "Epoch: 3310 | Loss: 0.008932482451200485 | Test loss: 0.005023092031478882\n",
            "Epoch: 3320 | Loss: 0.008932482451200485 | Test loss: 0.005023092031478882\n",
            "Epoch: 3330 | Loss: 0.008932482451200485 | Test loss: 0.005023092031478882\n",
            "Epoch: 3340 | Loss: 0.008932482451200485 | Test loss: 0.005023092031478882\n",
            "Epoch: 3350 | Loss: 0.008932482451200485 | Test loss: 0.005023092031478882\n",
            "Epoch: 3360 | Loss: 0.008932482451200485 | Test loss: 0.005023092031478882\n",
            "Epoch: 3370 | Loss: 0.008932482451200485 | Test loss: 0.005023092031478882\n",
            "Epoch: 3380 | Loss: 0.008932482451200485 | Test loss: 0.005023092031478882\n",
            "Epoch: 3390 | Loss: 0.008932482451200485 | Test loss: 0.005023092031478882\n",
            "Epoch: 3400 | Loss: 0.008932482451200485 | Test loss: 0.005023092031478882\n",
            "Epoch: 3410 | Loss: 0.008932482451200485 | Test loss: 0.005023092031478882\n",
            "Epoch: 3420 | Loss: 0.008932482451200485 | Test loss: 0.005023092031478882\n",
            "Epoch: 3430 | Loss: 0.008932482451200485 | Test loss: 0.005023092031478882\n",
            "Epoch: 3440 | Loss: 0.008932482451200485 | Test loss: 0.005023092031478882\n",
            "Epoch: 3450 | Loss: 0.008932482451200485 | Test loss: 0.005023092031478882\n",
            "Epoch: 3460 | Loss: 0.008932482451200485 | Test loss: 0.005023092031478882\n",
            "Epoch: 3470 | Loss: 0.008932482451200485 | Test loss: 0.005023092031478882\n",
            "Epoch: 3480 | Loss: 0.008932482451200485 | Test loss: 0.005023092031478882\n",
            "Epoch: 3490 | Loss: 0.008932482451200485 | Test loss: 0.005023092031478882\n",
            "Epoch: 3500 | Loss: 0.008932482451200485 | Test loss: 0.005023092031478882\n",
            "Epoch: 3510 | Loss: 0.008932482451200485 | Test loss: 0.005023092031478882\n",
            "Epoch: 3520 | Loss: 0.008932482451200485 | Test loss: 0.005023092031478882\n",
            "Epoch: 3530 | Loss: 0.008932482451200485 | Test loss: 0.005023092031478882\n",
            "Epoch: 3540 | Loss: 0.008932482451200485 | Test loss: 0.005023092031478882\n",
            "Epoch: 3550 | Loss: 0.008932482451200485 | Test loss: 0.005023092031478882\n",
            "Epoch: 3560 | Loss: 0.008932482451200485 | Test loss: 0.005023092031478882\n",
            "Epoch: 3570 | Loss: 0.008932482451200485 | Test loss: 0.005023092031478882\n",
            "Epoch: 3580 | Loss: 0.008932482451200485 | Test loss: 0.005023092031478882\n",
            "Epoch: 3590 | Loss: 0.008932482451200485 | Test loss: 0.005023092031478882\n",
            "Epoch: 3600 | Loss: 0.008932482451200485 | Test loss: 0.005023092031478882\n",
            "Epoch: 3610 | Loss: 0.008932482451200485 | Test loss: 0.005023092031478882\n",
            "Epoch: 3620 | Loss: 0.008932482451200485 | Test loss: 0.005023092031478882\n",
            "Epoch: 3630 | Loss: 0.008932482451200485 | Test loss: 0.005023092031478882\n",
            "Epoch: 3640 | Loss: 0.008932482451200485 | Test loss: 0.005023092031478882\n",
            "Epoch: 3650 | Loss: 0.008932482451200485 | Test loss: 0.005023092031478882\n",
            "Epoch: 3660 | Loss: 0.008932482451200485 | Test loss: 0.005023092031478882\n",
            "Epoch: 3670 | Loss: 0.008932482451200485 | Test loss: 0.005023092031478882\n",
            "Epoch: 3680 | Loss: 0.008932482451200485 | Test loss: 0.005023092031478882\n",
            "Epoch: 3690 | Loss: 0.008932482451200485 | Test loss: 0.005023092031478882\n",
            "Epoch: 3700 | Loss: 0.008932482451200485 | Test loss: 0.005023092031478882\n",
            "Epoch: 3710 | Loss: 0.008932482451200485 | Test loss: 0.005023092031478882\n",
            "Epoch: 3720 | Loss: 0.008932482451200485 | Test loss: 0.005023092031478882\n",
            "Epoch: 3730 | Loss: 0.008932482451200485 | Test loss: 0.005023092031478882\n",
            "Epoch: 3740 | Loss: 0.008932482451200485 | Test loss: 0.005023092031478882\n",
            "Epoch: 3750 | Loss: 0.008932482451200485 | Test loss: 0.005023092031478882\n",
            "Epoch: 3760 | Loss: 0.008932482451200485 | Test loss: 0.005023092031478882\n",
            "Epoch: 3770 | Loss: 0.008932482451200485 | Test loss: 0.005023092031478882\n",
            "Epoch: 3780 | Loss: 0.008932482451200485 | Test loss: 0.005023092031478882\n",
            "Epoch: 3790 | Loss: 0.008932482451200485 | Test loss: 0.005023092031478882\n",
            "Epoch: 3800 | Loss: 0.008932482451200485 | Test loss: 0.005023092031478882\n",
            "Epoch: 3810 | Loss: 0.008932482451200485 | Test loss: 0.005023092031478882\n",
            "Epoch: 3820 | Loss: 0.008932482451200485 | Test loss: 0.005023092031478882\n",
            "Epoch: 3830 | Loss: 0.008932482451200485 | Test loss: 0.005023092031478882\n",
            "Epoch: 3840 | Loss: 0.008932482451200485 | Test loss: 0.005023092031478882\n",
            "Epoch: 3850 | Loss: 0.008932482451200485 | Test loss: 0.005023092031478882\n",
            "Epoch: 3860 | Loss: 0.008932482451200485 | Test loss: 0.005023092031478882\n",
            "Epoch: 3870 | Loss: 0.008932482451200485 | Test loss: 0.005023092031478882\n",
            "Epoch: 3880 | Loss: 0.008932482451200485 | Test loss: 0.005023092031478882\n",
            "Epoch: 3890 | Loss: 0.008932482451200485 | Test loss: 0.005023092031478882\n",
            "Epoch: 3900 | Loss: 0.008932482451200485 | Test loss: 0.005023092031478882\n",
            "Epoch: 3910 | Loss: 0.008932482451200485 | Test loss: 0.005023092031478882\n",
            "Epoch: 3920 | Loss: 0.008932482451200485 | Test loss: 0.005023092031478882\n",
            "Epoch: 3930 | Loss: 0.008932482451200485 | Test loss: 0.005023092031478882\n",
            "Epoch: 3940 | Loss: 0.008932482451200485 | Test loss: 0.005023092031478882\n",
            "Epoch: 3950 | Loss: 0.008932482451200485 | Test loss: 0.005023092031478882\n",
            "Epoch: 3960 | Loss: 0.008932482451200485 | Test loss: 0.005023092031478882\n",
            "Epoch: 3970 | Loss: 0.008932482451200485 | Test loss: 0.005023092031478882\n",
            "Epoch: 3980 | Loss: 0.008932482451200485 | Test loss: 0.005023092031478882\n",
            "Epoch: 3990 | Loss: 0.008932482451200485 | Test loss: 0.005023092031478882\n",
            "Epoch: 4000 | Loss: 0.008932482451200485 | Test loss: 0.005023092031478882\n",
            "Epoch: 4010 | Loss: 0.008932482451200485 | Test loss: 0.005023092031478882\n",
            "Epoch: 4020 | Loss: 0.008932482451200485 | Test loss: 0.005023092031478882\n",
            "Epoch: 4030 | Loss: 0.008932482451200485 | Test loss: 0.005023092031478882\n",
            "Epoch: 4040 | Loss: 0.008932482451200485 | Test loss: 0.005023092031478882\n",
            "Epoch: 4050 | Loss: 0.008932482451200485 | Test loss: 0.005023092031478882\n",
            "Epoch: 4060 | Loss: 0.008932482451200485 | Test loss: 0.005023092031478882\n",
            "Epoch: 4070 | Loss: 0.008932482451200485 | Test loss: 0.005023092031478882\n",
            "Epoch: 4080 | Loss: 0.008932482451200485 | Test loss: 0.005023092031478882\n",
            "Epoch: 4090 | Loss: 0.008932482451200485 | Test loss: 0.005023092031478882\n",
            "Epoch: 4100 | Loss: 0.008932482451200485 | Test loss: 0.005023092031478882\n",
            "Epoch: 4110 | Loss: 0.008932482451200485 | Test loss: 0.005023092031478882\n",
            "Epoch: 4120 | Loss: 0.008932482451200485 | Test loss: 0.005023092031478882\n",
            "Epoch: 4130 | Loss: 0.008932482451200485 | Test loss: 0.005023092031478882\n",
            "Epoch: 4140 | Loss: 0.008932482451200485 | Test loss: 0.005023092031478882\n",
            "Epoch: 4150 | Loss: 0.008932482451200485 | Test loss: 0.005023092031478882\n",
            "Epoch: 4160 | Loss: 0.008932482451200485 | Test loss: 0.005023092031478882\n",
            "Epoch: 4170 | Loss: 0.008932482451200485 | Test loss: 0.005023092031478882\n",
            "Epoch: 4180 | Loss: 0.008932482451200485 | Test loss: 0.005023092031478882\n",
            "Epoch: 4190 | Loss: 0.008932482451200485 | Test loss: 0.005023092031478882\n",
            "Epoch: 4200 | Loss: 0.008932482451200485 | Test loss: 0.005023092031478882\n",
            "Epoch: 4210 | Loss: 0.008932482451200485 | Test loss: 0.005023092031478882\n",
            "Epoch: 4220 | Loss: 0.008932482451200485 | Test loss: 0.005023092031478882\n",
            "Epoch: 4230 | Loss: 0.008932482451200485 | Test loss: 0.005023092031478882\n",
            "Epoch: 4240 | Loss: 0.008932482451200485 | Test loss: 0.005023092031478882\n",
            "Epoch: 4250 | Loss: 0.008932482451200485 | Test loss: 0.005023092031478882\n",
            "Epoch: 4260 | Loss: 0.008932482451200485 | Test loss: 0.005023092031478882\n",
            "Epoch: 4270 | Loss: 0.008932482451200485 | Test loss: 0.005023092031478882\n",
            "Epoch: 4280 | Loss: 0.008932482451200485 | Test loss: 0.005023092031478882\n",
            "Epoch: 4290 | Loss: 0.008932482451200485 | Test loss: 0.005023092031478882\n",
            "Epoch: 4300 | Loss: 0.008932482451200485 | Test loss: 0.005023092031478882\n",
            "Epoch: 4310 | Loss: 0.008932482451200485 | Test loss: 0.005023092031478882\n",
            "Epoch: 4320 | Loss: 0.008932482451200485 | Test loss: 0.005023092031478882\n",
            "Epoch: 4330 | Loss: 0.008932482451200485 | Test loss: 0.005023092031478882\n",
            "Epoch: 4340 | Loss: 0.008932482451200485 | Test loss: 0.005023092031478882\n",
            "Epoch: 4350 | Loss: 0.008932482451200485 | Test loss: 0.005023092031478882\n",
            "Epoch: 4360 | Loss: 0.008932482451200485 | Test loss: 0.005023092031478882\n",
            "Epoch: 4370 | Loss: 0.008932482451200485 | Test loss: 0.005023092031478882\n",
            "Epoch: 4380 | Loss: 0.008932482451200485 | Test loss: 0.005023092031478882\n",
            "Epoch: 4390 | Loss: 0.008932482451200485 | Test loss: 0.005023092031478882\n",
            "Epoch: 4400 | Loss: 0.008932482451200485 | Test loss: 0.005023092031478882\n",
            "Epoch: 4410 | Loss: 0.008932482451200485 | Test loss: 0.005023092031478882\n",
            "Epoch: 4420 | Loss: 0.008932482451200485 | Test loss: 0.005023092031478882\n",
            "Epoch: 4430 | Loss: 0.008932482451200485 | Test loss: 0.005023092031478882\n",
            "Epoch: 4440 | Loss: 0.008932482451200485 | Test loss: 0.005023092031478882\n",
            "Epoch: 4450 | Loss: 0.008932482451200485 | Test loss: 0.005023092031478882\n",
            "Epoch: 4460 | Loss: 0.008932482451200485 | Test loss: 0.005023092031478882\n",
            "Epoch: 4470 | Loss: 0.008932482451200485 | Test loss: 0.005023092031478882\n",
            "Epoch: 4480 | Loss: 0.008932482451200485 | Test loss: 0.005023092031478882\n",
            "Epoch: 4490 | Loss: 0.008932482451200485 | Test loss: 0.005023092031478882\n",
            "Epoch: 4500 | Loss: 0.008932482451200485 | Test loss: 0.005023092031478882\n",
            "Epoch: 4510 | Loss: 0.008932482451200485 | Test loss: 0.005023092031478882\n",
            "Epoch: 4520 | Loss: 0.008932482451200485 | Test loss: 0.005023092031478882\n",
            "Epoch: 4530 | Loss: 0.008932482451200485 | Test loss: 0.005023092031478882\n",
            "Epoch: 4540 | Loss: 0.008932482451200485 | Test loss: 0.005023092031478882\n",
            "Epoch: 4550 | Loss: 0.008932482451200485 | Test loss: 0.005023092031478882\n",
            "Epoch: 4560 | Loss: 0.008932482451200485 | Test loss: 0.005023092031478882\n",
            "Epoch: 4570 | Loss: 0.008932482451200485 | Test loss: 0.005023092031478882\n",
            "Epoch: 4580 | Loss: 0.008932482451200485 | Test loss: 0.005023092031478882\n",
            "Epoch: 4590 | Loss: 0.008932482451200485 | Test loss: 0.005023092031478882\n",
            "Epoch: 4600 | Loss: 0.008932482451200485 | Test loss: 0.005023092031478882\n",
            "Epoch: 4610 | Loss: 0.008932482451200485 | Test loss: 0.005023092031478882\n",
            "Epoch: 4620 | Loss: 0.008932482451200485 | Test loss: 0.005023092031478882\n",
            "Epoch: 4630 | Loss: 0.008932482451200485 | Test loss: 0.005023092031478882\n",
            "Epoch: 4640 | Loss: 0.008932482451200485 | Test loss: 0.005023092031478882\n",
            "Epoch: 4650 | Loss: 0.008932482451200485 | Test loss: 0.005023092031478882\n",
            "Epoch: 4660 | Loss: 0.008932482451200485 | Test loss: 0.005023092031478882\n",
            "Epoch: 4670 | Loss: 0.008932482451200485 | Test loss: 0.005023092031478882\n",
            "Epoch: 4680 | Loss: 0.008932482451200485 | Test loss: 0.005023092031478882\n",
            "Epoch: 4690 | Loss: 0.008932482451200485 | Test loss: 0.005023092031478882\n",
            "Epoch: 4700 | Loss: 0.008932482451200485 | Test loss: 0.005023092031478882\n",
            "Epoch: 4710 | Loss: 0.008932482451200485 | Test loss: 0.005023092031478882\n",
            "Epoch: 4720 | Loss: 0.008932482451200485 | Test loss: 0.005023092031478882\n",
            "Epoch: 4730 | Loss: 0.008932482451200485 | Test loss: 0.005023092031478882\n",
            "Epoch: 4740 | Loss: 0.008932482451200485 | Test loss: 0.005023092031478882\n",
            "Epoch: 4750 | Loss: 0.008932482451200485 | Test loss: 0.005023092031478882\n",
            "Epoch: 4760 | Loss: 0.008932482451200485 | Test loss: 0.005023092031478882\n",
            "Epoch: 4770 | Loss: 0.008932482451200485 | Test loss: 0.005023092031478882\n",
            "Epoch: 4780 | Loss: 0.008932482451200485 | Test loss: 0.005023092031478882\n",
            "Epoch: 4790 | Loss: 0.008932482451200485 | Test loss: 0.005023092031478882\n",
            "Epoch: 4800 | Loss: 0.008932482451200485 | Test loss: 0.005023092031478882\n",
            "Epoch: 4810 | Loss: 0.008932482451200485 | Test loss: 0.005023092031478882\n",
            "Epoch: 4820 | Loss: 0.008932482451200485 | Test loss: 0.005023092031478882\n",
            "Epoch: 4830 | Loss: 0.008932482451200485 | Test loss: 0.005023092031478882\n",
            "Epoch: 4840 | Loss: 0.008932482451200485 | Test loss: 0.005023092031478882\n",
            "Epoch: 4850 | Loss: 0.008932482451200485 | Test loss: 0.005023092031478882\n",
            "Epoch: 4860 | Loss: 0.008932482451200485 | Test loss: 0.005023092031478882\n",
            "Epoch: 4870 | Loss: 0.008932482451200485 | Test loss: 0.005023092031478882\n",
            "Epoch: 4880 | Loss: 0.008932482451200485 | Test loss: 0.005023092031478882\n",
            "Epoch: 4890 | Loss: 0.008932482451200485 | Test loss: 0.005023092031478882\n",
            "Epoch: 4900 | Loss: 0.008932482451200485 | Test loss: 0.005023092031478882\n",
            "Epoch: 4910 | Loss: 0.008932482451200485 | Test loss: 0.005023092031478882\n",
            "Epoch: 4920 | Loss: 0.008932482451200485 | Test loss: 0.005023092031478882\n",
            "Epoch: 4930 | Loss: 0.008932482451200485 | Test loss: 0.005023092031478882\n",
            "Epoch: 4940 | Loss: 0.008932482451200485 | Test loss: 0.005023092031478882\n",
            "Epoch: 4950 | Loss: 0.008932482451200485 | Test loss: 0.005023092031478882\n",
            "Epoch: 4960 | Loss: 0.008932482451200485 | Test loss: 0.005023092031478882\n",
            "Epoch: 4970 | Loss: 0.008932482451200485 | Test loss: 0.005023092031478882\n",
            "Epoch: 4980 | Loss: 0.008932482451200485 | Test loss: 0.005023092031478882\n",
            "Epoch: 4990 | Loss: 0.008932482451200485 | Test loss: 0.005023092031478882\n",
            "Epoch: 5000 | Loss: 0.008932482451200485 | Test loss: 0.005023092031478882\n",
            "Epoch: 5010 | Loss: 0.008932482451200485 | Test loss: 0.005023092031478882\n",
            "Epoch: 5020 | Loss: 0.008932482451200485 | Test loss: 0.005023092031478882\n",
            "Epoch: 5030 | Loss: 0.008932482451200485 | Test loss: 0.005023092031478882\n",
            "Epoch: 5040 | Loss: 0.008932482451200485 | Test loss: 0.005023092031478882\n",
            "Epoch: 5050 | Loss: 0.008932482451200485 | Test loss: 0.005023092031478882\n",
            "Epoch: 5060 | Loss: 0.008932482451200485 | Test loss: 0.005023092031478882\n",
            "Epoch: 5070 | Loss: 0.008932482451200485 | Test loss: 0.005023092031478882\n",
            "Epoch: 5080 | Loss: 0.008932482451200485 | Test loss: 0.005023092031478882\n",
            "Epoch: 5090 | Loss: 0.008932482451200485 | Test loss: 0.005023092031478882\n",
            "Epoch: 5100 | Loss: 0.008932482451200485 | Test loss: 0.005023092031478882\n",
            "Epoch: 5110 | Loss: 0.008932482451200485 | Test loss: 0.005023092031478882\n",
            "Epoch: 5120 | Loss: 0.008932482451200485 | Test loss: 0.005023092031478882\n",
            "Epoch: 5130 | Loss: 0.008932482451200485 | Test loss: 0.005023092031478882\n",
            "Epoch: 5140 | Loss: 0.008932482451200485 | Test loss: 0.005023092031478882\n",
            "Epoch: 5150 | Loss: 0.008932482451200485 | Test loss: 0.005023092031478882\n",
            "Epoch: 5160 | Loss: 0.008932482451200485 | Test loss: 0.005023092031478882\n",
            "Epoch: 5170 | Loss: 0.008932482451200485 | Test loss: 0.005023092031478882\n",
            "Epoch: 5180 | Loss: 0.008932482451200485 | Test loss: 0.005023092031478882\n",
            "Epoch: 5190 | Loss: 0.008932482451200485 | Test loss: 0.005023092031478882\n",
            "Epoch: 5200 | Loss: 0.008932482451200485 | Test loss: 0.005023092031478882\n",
            "Epoch: 5210 | Loss: 0.008932482451200485 | Test loss: 0.005023092031478882\n",
            "Epoch: 5220 | Loss: 0.008932482451200485 | Test loss: 0.005023092031478882\n",
            "Epoch: 5230 | Loss: 0.008932482451200485 | Test loss: 0.005023092031478882\n",
            "Epoch: 5240 | Loss: 0.008932482451200485 | Test loss: 0.005023092031478882\n",
            "Epoch: 5250 | Loss: 0.008932482451200485 | Test loss: 0.005023092031478882\n",
            "Epoch: 5260 | Loss: 0.008932482451200485 | Test loss: 0.005023092031478882\n",
            "Epoch: 5270 | Loss: 0.008932482451200485 | Test loss: 0.005023092031478882\n",
            "Epoch: 5280 | Loss: 0.008932482451200485 | Test loss: 0.005023092031478882\n",
            "Epoch: 5290 | Loss: 0.008932482451200485 | Test loss: 0.005023092031478882\n",
            "Epoch: 5300 | Loss: 0.008932482451200485 | Test loss: 0.005023092031478882\n",
            "Epoch: 5310 | Loss: 0.008932482451200485 | Test loss: 0.005023092031478882\n",
            "Epoch: 5320 | Loss: 0.008932482451200485 | Test loss: 0.005023092031478882\n",
            "Epoch: 5330 | Loss: 0.008932482451200485 | Test loss: 0.005023092031478882\n",
            "Epoch: 5340 | Loss: 0.008932482451200485 | Test loss: 0.005023092031478882\n",
            "Epoch: 5350 | Loss: 0.008932482451200485 | Test loss: 0.005023092031478882\n",
            "Epoch: 5360 | Loss: 0.008932482451200485 | Test loss: 0.005023092031478882\n",
            "Epoch: 5370 | Loss: 0.008932482451200485 | Test loss: 0.005023092031478882\n",
            "Epoch: 5380 | Loss: 0.008932482451200485 | Test loss: 0.005023092031478882\n",
            "Epoch: 5390 | Loss: 0.008932482451200485 | Test loss: 0.005023092031478882\n",
            "Epoch: 5400 | Loss: 0.008932482451200485 | Test loss: 0.005023092031478882\n",
            "Epoch: 5410 | Loss: 0.008932482451200485 | Test loss: 0.005023092031478882\n",
            "Epoch: 5420 | Loss: 0.008932482451200485 | Test loss: 0.005023092031478882\n",
            "Epoch: 5430 | Loss: 0.008932482451200485 | Test loss: 0.005023092031478882\n",
            "Epoch: 5440 | Loss: 0.008932482451200485 | Test loss: 0.005023092031478882\n",
            "Epoch: 5450 | Loss: 0.008932482451200485 | Test loss: 0.005023092031478882\n",
            "Epoch: 5460 | Loss: 0.008932482451200485 | Test loss: 0.005023092031478882\n",
            "Epoch: 5470 | Loss: 0.008932482451200485 | Test loss: 0.005023092031478882\n",
            "Epoch: 5480 | Loss: 0.008932482451200485 | Test loss: 0.005023092031478882\n",
            "Epoch: 5490 | Loss: 0.008932482451200485 | Test loss: 0.005023092031478882\n",
            "Epoch: 5500 | Loss: 0.008932482451200485 | Test loss: 0.005023092031478882\n",
            "Epoch: 5510 | Loss: 0.008932482451200485 | Test loss: 0.005023092031478882\n",
            "Epoch: 5520 | Loss: 0.008932482451200485 | Test loss: 0.005023092031478882\n",
            "Epoch: 5530 | Loss: 0.008932482451200485 | Test loss: 0.005023092031478882\n",
            "Epoch: 5540 | Loss: 0.008932482451200485 | Test loss: 0.005023092031478882\n",
            "Epoch: 5550 | Loss: 0.008932482451200485 | Test loss: 0.005023092031478882\n",
            "Epoch: 5560 | Loss: 0.008932482451200485 | Test loss: 0.005023092031478882\n",
            "Epoch: 5570 | Loss: 0.008932482451200485 | Test loss: 0.005023092031478882\n",
            "Epoch: 5580 | Loss: 0.008932482451200485 | Test loss: 0.005023092031478882\n",
            "Epoch: 5590 | Loss: 0.008932482451200485 | Test loss: 0.005023092031478882\n",
            "Epoch: 5600 | Loss: 0.008932482451200485 | Test loss: 0.005023092031478882\n",
            "Epoch: 5610 | Loss: 0.008932482451200485 | Test loss: 0.005023092031478882\n",
            "Epoch: 5620 | Loss: 0.008932482451200485 | Test loss: 0.005023092031478882\n",
            "Epoch: 5630 | Loss: 0.008932482451200485 | Test loss: 0.005023092031478882\n",
            "Epoch: 5640 | Loss: 0.008932482451200485 | Test loss: 0.005023092031478882\n",
            "Epoch: 5650 | Loss: 0.008932482451200485 | Test loss: 0.005023092031478882\n",
            "Epoch: 5660 | Loss: 0.008932482451200485 | Test loss: 0.005023092031478882\n",
            "Epoch: 5670 | Loss: 0.008932482451200485 | Test loss: 0.005023092031478882\n",
            "Epoch: 5680 | Loss: 0.008932482451200485 | Test loss: 0.005023092031478882\n",
            "Epoch: 5690 | Loss: 0.008932482451200485 | Test loss: 0.005023092031478882\n",
            "Epoch: 5700 | Loss: 0.008932482451200485 | Test loss: 0.005023092031478882\n",
            "Epoch: 5710 | Loss: 0.008932482451200485 | Test loss: 0.005023092031478882\n",
            "Epoch: 5720 | Loss: 0.008932482451200485 | Test loss: 0.005023092031478882\n",
            "Epoch: 5730 | Loss: 0.008932482451200485 | Test loss: 0.005023092031478882\n",
            "Epoch: 5740 | Loss: 0.008932482451200485 | Test loss: 0.005023092031478882\n",
            "Epoch: 5750 | Loss: 0.008932482451200485 | Test loss: 0.005023092031478882\n",
            "Epoch: 5760 | Loss: 0.008932482451200485 | Test loss: 0.005023092031478882\n",
            "Epoch: 5770 | Loss: 0.008932482451200485 | Test loss: 0.005023092031478882\n",
            "Epoch: 5780 | Loss: 0.008932482451200485 | Test loss: 0.005023092031478882\n",
            "Epoch: 5790 | Loss: 0.008932482451200485 | Test loss: 0.005023092031478882\n",
            "Epoch: 5800 | Loss: 0.008932482451200485 | Test loss: 0.005023092031478882\n",
            "Epoch: 5810 | Loss: 0.008932482451200485 | Test loss: 0.005023092031478882\n",
            "Epoch: 5820 | Loss: 0.008932482451200485 | Test loss: 0.005023092031478882\n",
            "Epoch: 5830 | Loss: 0.008932482451200485 | Test loss: 0.005023092031478882\n",
            "Epoch: 5840 | Loss: 0.008932482451200485 | Test loss: 0.005023092031478882\n",
            "Epoch: 5850 | Loss: 0.008932482451200485 | Test loss: 0.005023092031478882\n",
            "Epoch: 5860 | Loss: 0.008932482451200485 | Test loss: 0.005023092031478882\n",
            "Epoch: 5870 | Loss: 0.008932482451200485 | Test loss: 0.005023092031478882\n",
            "Epoch: 5880 | Loss: 0.008932482451200485 | Test loss: 0.005023092031478882\n",
            "Epoch: 5890 | Loss: 0.008932482451200485 | Test loss: 0.005023092031478882\n",
            "Epoch: 5900 | Loss: 0.008932482451200485 | Test loss: 0.005023092031478882\n",
            "Epoch: 5910 | Loss: 0.008932482451200485 | Test loss: 0.005023092031478882\n",
            "Epoch: 5920 | Loss: 0.008932482451200485 | Test loss: 0.005023092031478882\n",
            "Epoch: 5930 | Loss: 0.008932482451200485 | Test loss: 0.005023092031478882\n",
            "Epoch: 5940 | Loss: 0.008932482451200485 | Test loss: 0.005023092031478882\n",
            "Epoch: 5950 | Loss: 0.008932482451200485 | Test loss: 0.005023092031478882\n",
            "Epoch: 5960 | Loss: 0.008932482451200485 | Test loss: 0.005023092031478882\n",
            "Epoch: 5970 | Loss: 0.008932482451200485 | Test loss: 0.005023092031478882\n",
            "Epoch: 5980 | Loss: 0.008932482451200485 | Test loss: 0.005023092031478882\n",
            "Epoch: 5990 | Loss: 0.008932482451200485 | Test loss: 0.005023092031478882\n",
            "Epoch: 6000 | Loss: 0.008932482451200485 | Test loss: 0.005023092031478882\n",
            "Epoch: 6010 | Loss: 0.008932482451200485 | Test loss: 0.005023092031478882\n",
            "Epoch: 6020 | Loss: 0.008932482451200485 | Test loss: 0.005023092031478882\n",
            "Epoch: 6030 | Loss: 0.008932482451200485 | Test loss: 0.005023092031478882\n",
            "Epoch: 6040 | Loss: 0.008932482451200485 | Test loss: 0.005023092031478882\n",
            "Epoch: 6050 | Loss: 0.008932482451200485 | Test loss: 0.005023092031478882\n",
            "Epoch: 6060 | Loss: 0.008932482451200485 | Test loss: 0.005023092031478882\n",
            "Epoch: 6070 | Loss: 0.008932482451200485 | Test loss: 0.005023092031478882\n",
            "Epoch: 6080 | Loss: 0.008932482451200485 | Test loss: 0.005023092031478882\n",
            "Epoch: 6090 | Loss: 0.008932482451200485 | Test loss: 0.005023092031478882\n",
            "Epoch: 6100 | Loss: 0.008932482451200485 | Test loss: 0.005023092031478882\n",
            "Epoch: 6110 | Loss: 0.008932482451200485 | Test loss: 0.005023092031478882\n",
            "Epoch: 6120 | Loss: 0.008932482451200485 | Test loss: 0.005023092031478882\n",
            "Epoch: 6130 | Loss: 0.008932482451200485 | Test loss: 0.005023092031478882\n",
            "Epoch: 6140 | Loss: 0.008932482451200485 | Test loss: 0.005023092031478882\n",
            "Epoch: 6150 | Loss: 0.008932482451200485 | Test loss: 0.005023092031478882\n",
            "Epoch: 6160 | Loss: 0.008932482451200485 | Test loss: 0.005023092031478882\n",
            "Epoch: 6170 | Loss: 0.008932482451200485 | Test loss: 0.005023092031478882\n",
            "Epoch: 6180 | Loss: 0.008932482451200485 | Test loss: 0.005023092031478882\n",
            "Epoch: 6190 | Loss: 0.008932482451200485 | Test loss: 0.005023092031478882\n",
            "Epoch: 6200 | Loss: 0.008932482451200485 | Test loss: 0.005023092031478882\n",
            "Epoch: 6210 | Loss: 0.008932482451200485 | Test loss: 0.005023092031478882\n",
            "Epoch: 6220 | Loss: 0.008932482451200485 | Test loss: 0.005023092031478882\n",
            "Epoch: 6230 | Loss: 0.008932482451200485 | Test loss: 0.005023092031478882\n",
            "Epoch: 6240 | Loss: 0.008932482451200485 | Test loss: 0.005023092031478882\n",
            "Epoch: 6250 | Loss: 0.008932482451200485 | Test loss: 0.005023092031478882\n",
            "Epoch: 6260 | Loss: 0.008932482451200485 | Test loss: 0.005023092031478882\n",
            "Epoch: 6270 | Loss: 0.008932482451200485 | Test loss: 0.005023092031478882\n",
            "Epoch: 6280 | Loss: 0.008932482451200485 | Test loss: 0.005023092031478882\n",
            "Epoch: 6290 | Loss: 0.008932482451200485 | Test loss: 0.005023092031478882\n",
            "Epoch: 6300 | Loss: 0.008932482451200485 | Test loss: 0.005023092031478882\n",
            "Epoch: 6310 | Loss: 0.008932482451200485 | Test loss: 0.005023092031478882\n",
            "Epoch: 6320 | Loss: 0.008932482451200485 | Test loss: 0.005023092031478882\n",
            "Epoch: 6330 | Loss: 0.008932482451200485 | Test loss: 0.005023092031478882\n",
            "Epoch: 6340 | Loss: 0.008932482451200485 | Test loss: 0.005023092031478882\n",
            "Epoch: 6350 | Loss: 0.008932482451200485 | Test loss: 0.005023092031478882\n",
            "Epoch: 6360 | Loss: 0.008932482451200485 | Test loss: 0.005023092031478882\n",
            "Epoch: 6370 | Loss: 0.008932482451200485 | Test loss: 0.005023092031478882\n",
            "Epoch: 6380 | Loss: 0.008932482451200485 | Test loss: 0.005023092031478882\n",
            "Epoch: 6390 | Loss: 0.008932482451200485 | Test loss: 0.005023092031478882\n",
            "Epoch: 6400 | Loss: 0.008932482451200485 | Test loss: 0.005023092031478882\n",
            "Epoch: 6410 | Loss: 0.008932482451200485 | Test loss: 0.005023092031478882\n",
            "Epoch: 6420 | Loss: 0.008932482451200485 | Test loss: 0.005023092031478882\n",
            "Epoch: 6430 | Loss: 0.008932482451200485 | Test loss: 0.005023092031478882\n",
            "Epoch: 6440 | Loss: 0.008932482451200485 | Test loss: 0.005023092031478882\n",
            "Epoch: 6450 | Loss: 0.008932482451200485 | Test loss: 0.005023092031478882\n",
            "Epoch: 6460 | Loss: 0.008932482451200485 | Test loss: 0.005023092031478882\n",
            "Epoch: 6470 | Loss: 0.008932482451200485 | Test loss: 0.005023092031478882\n",
            "Epoch: 6480 | Loss: 0.008932482451200485 | Test loss: 0.005023092031478882\n",
            "Epoch: 6490 | Loss: 0.008932482451200485 | Test loss: 0.005023092031478882\n",
            "Epoch: 6500 | Loss: 0.008932482451200485 | Test loss: 0.005023092031478882\n",
            "Epoch: 6510 | Loss: 0.008932482451200485 | Test loss: 0.005023092031478882\n",
            "Epoch: 6520 | Loss: 0.008932482451200485 | Test loss: 0.005023092031478882\n",
            "Epoch: 6530 | Loss: 0.008932482451200485 | Test loss: 0.005023092031478882\n",
            "Epoch: 6540 | Loss: 0.008932482451200485 | Test loss: 0.005023092031478882\n",
            "Epoch: 6550 | Loss: 0.008932482451200485 | Test loss: 0.005023092031478882\n",
            "Epoch: 6560 | Loss: 0.008932482451200485 | Test loss: 0.005023092031478882\n",
            "Epoch: 6570 | Loss: 0.008932482451200485 | Test loss: 0.005023092031478882\n",
            "Epoch: 6580 | Loss: 0.008932482451200485 | Test loss: 0.005023092031478882\n",
            "Epoch: 6590 | Loss: 0.008932482451200485 | Test loss: 0.005023092031478882\n",
            "Epoch: 6600 | Loss: 0.008932482451200485 | Test loss: 0.005023092031478882\n",
            "Epoch: 6610 | Loss: 0.008932482451200485 | Test loss: 0.005023092031478882\n",
            "Epoch: 6620 | Loss: 0.008932482451200485 | Test loss: 0.005023092031478882\n",
            "Epoch: 6630 | Loss: 0.008932482451200485 | Test loss: 0.005023092031478882\n",
            "Epoch: 6640 | Loss: 0.008932482451200485 | Test loss: 0.005023092031478882\n",
            "Epoch: 6650 | Loss: 0.008932482451200485 | Test loss: 0.005023092031478882\n",
            "Epoch: 6660 | Loss: 0.008932482451200485 | Test loss: 0.005023092031478882\n",
            "Epoch: 6670 | Loss: 0.008932482451200485 | Test loss: 0.005023092031478882\n",
            "Epoch: 6680 | Loss: 0.008932482451200485 | Test loss: 0.005023092031478882\n",
            "Epoch: 6690 | Loss: 0.008932482451200485 | Test loss: 0.005023092031478882\n",
            "Epoch: 6700 | Loss: 0.008932482451200485 | Test loss: 0.005023092031478882\n",
            "Epoch: 6710 | Loss: 0.008932482451200485 | Test loss: 0.005023092031478882\n",
            "Epoch: 6720 | Loss: 0.008932482451200485 | Test loss: 0.005023092031478882\n",
            "Epoch: 6730 | Loss: 0.008932482451200485 | Test loss: 0.005023092031478882\n",
            "Epoch: 6740 | Loss: 0.008932482451200485 | Test loss: 0.005023092031478882\n",
            "Epoch: 6750 | Loss: 0.008932482451200485 | Test loss: 0.005023092031478882\n",
            "Epoch: 6760 | Loss: 0.008932482451200485 | Test loss: 0.005023092031478882\n",
            "Epoch: 6770 | Loss: 0.008932482451200485 | Test loss: 0.005023092031478882\n",
            "Epoch: 6780 | Loss: 0.008932482451200485 | Test loss: 0.005023092031478882\n",
            "Epoch: 6790 | Loss: 0.008932482451200485 | Test loss: 0.005023092031478882\n",
            "Epoch: 6800 | Loss: 0.008932482451200485 | Test loss: 0.005023092031478882\n",
            "Epoch: 6810 | Loss: 0.008932482451200485 | Test loss: 0.005023092031478882\n",
            "Epoch: 6820 | Loss: 0.008932482451200485 | Test loss: 0.005023092031478882\n",
            "Epoch: 6830 | Loss: 0.008932482451200485 | Test loss: 0.005023092031478882\n",
            "Epoch: 6840 | Loss: 0.008932482451200485 | Test loss: 0.005023092031478882\n",
            "Epoch: 6850 | Loss: 0.008932482451200485 | Test loss: 0.005023092031478882\n",
            "Epoch: 6860 | Loss: 0.008932482451200485 | Test loss: 0.005023092031478882\n",
            "Epoch: 6870 | Loss: 0.008932482451200485 | Test loss: 0.005023092031478882\n",
            "Epoch: 6880 | Loss: 0.008932482451200485 | Test loss: 0.005023092031478882\n",
            "Epoch: 6890 | Loss: 0.008932482451200485 | Test loss: 0.005023092031478882\n",
            "Epoch: 6900 | Loss: 0.008932482451200485 | Test loss: 0.005023092031478882\n",
            "Epoch: 6910 | Loss: 0.008932482451200485 | Test loss: 0.005023092031478882\n",
            "Epoch: 6920 | Loss: 0.008932482451200485 | Test loss: 0.005023092031478882\n",
            "Epoch: 6930 | Loss: 0.008932482451200485 | Test loss: 0.005023092031478882\n",
            "Epoch: 6940 | Loss: 0.008932482451200485 | Test loss: 0.005023092031478882\n",
            "Epoch: 6950 | Loss: 0.008932482451200485 | Test loss: 0.005023092031478882\n",
            "Epoch: 6960 | Loss: 0.008932482451200485 | Test loss: 0.005023092031478882\n",
            "Epoch: 6970 | Loss: 0.008932482451200485 | Test loss: 0.005023092031478882\n",
            "Epoch: 6980 | Loss: 0.008932482451200485 | Test loss: 0.005023092031478882\n",
            "Epoch: 6990 | Loss: 0.008932482451200485 | Test loss: 0.005023092031478882\n",
            "Epoch: 7000 | Loss: 0.008932482451200485 | Test loss: 0.005023092031478882\n",
            "Epoch: 7010 | Loss: 0.008932482451200485 | Test loss: 0.005023092031478882\n",
            "Epoch: 7020 | Loss: 0.008932482451200485 | Test loss: 0.005023092031478882\n",
            "Epoch: 7030 | Loss: 0.008932482451200485 | Test loss: 0.005023092031478882\n",
            "Epoch: 7040 | Loss: 0.008932482451200485 | Test loss: 0.005023092031478882\n",
            "Epoch: 7050 | Loss: 0.008932482451200485 | Test loss: 0.005023092031478882\n",
            "Epoch: 7060 | Loss: 0.008932482451200485 | Test loss: 0.005023092031478882\n",
            "Epoch: 7070 | Loss: 0.008932482451200485 | Test loss: 0.005023092031478882\n",
            "Epoch: 7080 | Loss: 0.008932482451200485 | Test loss: 0.005023092031478882\n",
            "Epoch: 7090 | Loss: 0.008932482451200485 | Test loss: 0.005023092031478882\n",
            "Epoch: 7100 | Loss: 0.008932482451200485 | Test loss: 0.005023092031478882\n",
            "Epoch: 7110 | Loss: 0.008932482451200485 | Test loss: 0.005023092031478882\n",
            "Epoch: 7120 | Loss: 0.008932482451200485 | Test loss: 0.005023092031478882\n",
            "Epoch: 7130 | Loss: 0.008932482451200485 | Test loss: 0.005023092031478882\n",
            "Epoch: 7140 | Loss: 0.008932482451200485 | Test loss: 0.005023092031478882\n",
            "Epoch: 7150 | Loss: 0.008932482451200485 | Test loss: 0.005023092031478882\n",
            "Epoch: 7160 | Loss: 0.008932482451200485 | Test loss: 0.005023092031478882\n",
            "Epoch: 7170 | Loss: 0.008932482451200485 | Test loss: 0.005023092031478882\n",
            "Epoch: 7180 | Loss: 0.008932482451200485 | Test loss: 0.005023092031478882\n",
            "Epoch: 7190 | Loss: 0.008932482451200485 | Test loss: 0.005023092031478882\n",
            "Epoch: 7200 | Loss: 0.008932482451200485 | Test loss: 0.005023092031478882\n",
            "Epoch: 7210 | Loss: 0.008932482451200485 | Test loss: 0.005023092031478882\n",
            "Epoch: 7220 | Loss: 0.008932482451200485 | Test loss: 0.005023092031478882\n",
            "Epoch: 7230 | Loss: 0.008932482451200485 | Test loss: 0.005023092031478882\n",
            "Epoch: 7240 | Loss: 0.008932482451200485 | Test loss: 0.005023092031478882\n",
            "Epoch: 7250 | Loss: 0.008932482451200485 | Test loss: 0.005023092031478882\n",
            "Epoch: 7260 | Loss: 0.008932482451200485 | Test loss: 0.005023092031478882\n",
            "Epoch: 7270 | Loss: 0.008932482451200485 | Test loss: 0.005023092031478882\n",
            "Epoch: 7280 | Loss: 0.008932482451200485 | Test loss: 0.005023092031478882\n",
            "Epoch: 7290 | Loss: 0.008932482451200485 | Test loss: 0.005023092031478882\n",
            "Epoch: 7300 | Loss: 0.008932482451200485 | Test loss: 0.005023092031478882\n",
            "Epoch: 7310 | Loss: 0.008932482451200485 | Test loss: 0.005023092031478882\n",
            "Epoch: 7320 | Loss: 0.008932482451200485 | Test loss: 0.005023092031478882\n",
            "Epoch: 7330 | Loss: 0.008932482451200485 | Test loss: 0.005023092031478882\n",
            "Epoch: 7340 | Loss: 0.008932482451200485 | Test loss: 0.005023092031478882\n",
            "Epoch: 7350 | Loss: 0.008932482451200485 | Test loss: 0.005023092031478882\n",
            "Epoch: 7360 | Loss: 0.008932482451200485 | Test loss: 0.005023092031478882\n",
            "Epoch: 7370 | Loss: 0.008932482451200485 | Test loss: 0.005023092031478882\n",
            "Epoch: 7380 | Loss: 0.008932482451200485 | Test loss: 0.005023092031478882\n",
            "Epoch: 7390 | Loss: 0.008932482451200485 | Test loss: 0.005023092031478882\n",
            "Epoch: 7400 | Loss: 0.008932482451200485 | Test loss: 0.005023092031478882\n",
            "Epoch: 7410 | Loss: 0.008932482451200485 | Test loss: 0.005023092031478882\n",
            "Epoch: 7420 | Loss: 0.008932482451200485 | Test loss: 0.005023092031478882\n",
            "Epoch: 7430 | Loss: 0.008932482451200485 | Test loss: 0.005023092031478882\n",
            "Epoch: 7440 | Loss: 0.008932482451200485 | Test loss: 0.005023092031478882\n",
            "Epoch: 7450 | Loss: 0.008932482451200485 | Test loss: 0.005023092031478882\n",
            "Epoch: 7460 | Loss: 0.008932482451200485 | Test loss: 0.005023092031478882\n",
            "Epoch: 7470 | Loss: 0.008932482451200485 | Test loss: 0.005023092031478882\n",
            "Epoch: 7480 | Loss: 0.008932482451200485 | Test loss: 0.005023092031478882\n",
            "Epoch: 7490 | Loss: 0.008932482451200485 | Test loss: 0.005023092031478882\n",
            "Epoch: 7500 | Loss: 0.008932482451200485 | Test loss: 0.005023092031478882\n",
            "Epoch: 7510 | Loss: 0.008932482451200485 | Test loss: 0.005023092031478882\n",
            "Epoch: 7520 | Loss: 0.008932482451200485 | Test loss: 0.005023092031478882\n",
            "Epoch: 7530 | Loss: 0.008932482451200485 | Test loss: 0.005023092031478882\n",
            "Epoch: 7540 | Loss: 0.008932482451200485 | Test loss: 0.005023092031478882\n",
            "Epoch: 7550 | Loss: 0.008932482451200485 | Test loss: 0.005023092031478882\n",
            "Epoch: 7560 | Loss: 0.008932482451200485 | Test loss: 0.005023092031478882\n",
            "Epoch: 7570 | Loss: 0.008932482451200485 | Test loss: 0.005023092031478882\n",
            "Epoch: 7580 | Loss: 0.008932482451200485 | Test loss: 0.005023092031478882\n",
            "Epoch: 7590 | Loss: 0.008932482451200485 | Test loss: 0.005023092031478882\n",
            "Epoch: 7600 | Loss: 0.008932482451200485 | Test loss: 0.005023092031478882\n",
            "Epoch: 7610 | Loss: 0.008932482451200485 | Test loss: 0.005023092031478882\n",
            "Epoch: 7620 | Loss: 0.008932482451200485 | Test loss: 0.005023092031478882\n",
            "Epoch: 7630 | Loss: 0.008932482451200485 | Test loss: 0.005023092031478882\n",
            "Epoch: 7640 | Loss: 0.008932482451200485 | Test loss: 0.005023092031478882\n",
            "Epoch: 7650 | Loss: 0.008932482451200485 | Test loss: 0.005023092031478882\n",
            "Epoch: 7660 | Loss: 0.008932482451200485 | Test loss: 0.005023092031478882\n",
            "Epoch: 7670 | Loss: 0.008932482451200485 | Test loss: 0.005023092031478882\n",
            "Epoch: 7680 | Loss: 0.008932482451200485 | Test loss: 0.005023092031478882\n",
            "Epoch: 7690 | Loss: 0.008932482451200485 | Test loss: 0.005023092031478882\n",
            "Epoch: 7700 | Loss: 0.008932482451200485 | Test loss: 0.005023092031478882\n",
            "Epoch: 7710 | Loss: 0.008932482451200485 | Test loss: 0.005023092031478882\n",
            "Epoch: 7720 | Loss: 0.008932482451200485 | Test loss: 0.005023092031478882\n",
            "Epoch: 7730 | Loss: 0.008932482451200485 | Test loss: 0.005023092031478882\n",
            "Epoch: 7740 | Loss: 0.008932482451200485 | Test loss: 0.005023092031478882\n",
            "Epoch: 7750 | Loss: 0.008932482451200485 | Test loss: 0.005023092031478882\n",
            "Epoch: 7760 | Loss: 0.008932482451200485 | Test loss: 0.005023092031478882\n",
            "Epoch: 7770 | Loss: 0.008932482451200485 | Test loss: 0.005023092031478882\n",
            "Epoch: 7780 | Loss: 0.008932482451200485 | Test loss: 0.005023092031478882\n",
            "Epoch: 7790 | Loss: 0.008932482451200485 | Test loss: 0.005023092031478882\n",
            "Epoch: 7800 | Loss: 0.008932482451200485 | Test loss: 0.005023092031478882\n",
            "Epoch: 7810 | Loss: 0.008932482451200485 | Test loss: 0.005023092031478882\n",
            "Epoch: 7820 | Loss: 0.008932482451200485 | Test loss: 0.005023092031478882\n",
            "Epoch: 7830 | Loss: 0.008932482451200485 | Test loss: 0.005023092031478882\n",
            "Epoch: 7840 | Loss: 0.008932482451200485 | Test loss: 0.005023092031478882\n",
            "Epoch: 7850 | Loss: 0.008932482451200485 | Test loss: 0.005023092031478882\n",
            "Epoch: 7860 | Loss: 0.008932482451200485 | Test loss: 0.005023092031478882\n",
            "Epoch: 7870 | Loss: 0.008932482451200485 | Test loss: 0.005023092031478882\n",
            "Epoch: 7880 | Loss: 0.008932482451200485 | Test loss: 0.005023092031478882\n",
            "Epoch: 7890 | Loss: 0.008932482451200485 | Test loss: 0.005023092031478882\n",
            "Epoch: 7900 | Loss: 0.008932482451200485 | Test loss: 0.005023092031478882\n",
            "Epoch: 7910 | Loss: 0.008932482451200485 | Test loss: 0.005023092031478882\n",
            "Epoch: 7920 | Loss: 0.008932482451200485 | Test loss: 0.005023092031478882\n",
            "Epoch: 7930 | Loss: 0.008932482451200485 | Test loss: 0.005023092031478882\n",
            "Epoch: 7940 | Loss: 0.008932482451200485 | Test loss: 0.005023092031478882\n",
            "Epoch: 7950 | Loss: 0.008932482451200485 | Test loss: 0.005023092031478882\n",
            "Epoch: 7960 | Loss: 0.008932482451200485 | Test loss: 0.005023092031478882\n",
            "Epoch: 7970 | Loss: 0.008932482451200485 | Test loss: 0.005023092031478882\n",
            "Epoch: 7980 | Loss: 0.008932482451200485 | Test loss: 0.005023092031478882\n",
            "Epoch: 7990 | Loss: 0.008932482451200485 | Test loss: 0.005023092031478882\n",
            "Epoch: 8000 | Loss: 0.008932482451200485 | Test loss: 0.005023092031478882\n",
            "Epoch: 8010 | Loss: 0.008932482451200485 | Test loss: 0.005023092031478882\n",
            "Epoch: 8020 | Loss: 0.008932482451200485 | Test loss: 0.005023092031478882\n",
            "Epoch: 8030 | Loss: 0.008932482451200485 | Test loss: 0.005023092031478882\n",
            "Epoch: 8040 | Loss: 0.008932482451200485 | Test loss: 0.005023092031478882\n",
            "Epoch: 8050 | Loss: 0.008932482451200485 | Test loss: 0.005023092031478882\n",
            "Epoch: 8060 | Loss: 0.008932482451200485 | Test loss: 0.005023092031478882\n",
            "Epoch: 8070 | Loss: 0.008932482451200485 | Test loss: 0.005023092031478882\n",
            "Epoch: 8080 | Loss: 0.008932482451200485 | Test loss: 0.005023092031478882\n",
            "Epoch: 8090 | Loss: 0.008932482451200485 | Test loss: 0.005023092031478882\n",
            "Epoch: 8100 | Loss: 0.008932482451200485 | Test loss: 0.005023092031478882\n",
            "Epoch: 8110 | Loss: 0.008932482451200485 | Test loss: 0.005023092031478882\n",
            "Epoch: 8120 | Loss: 0.008932482451200485 | Test loss: 0.005023092031478882\n",
            "Epoch: 8130 | Loss: 0.008932482451200485 | Test loss: 0.005023092031478882\n",
            "Epoch: 8140 | Loss: 0.008932482451200485 | Test loss: 0.005023092031478882\n",
            "Epoch: 8150 | Loss: 0.008932482451200485 | Test loss: 0.005023092031478882\n",
            "Epoch: 8160 | Loss: 0.008932482451200485 | Test loss: 0.005023092031478882\n",
            "Epoch: 8170 | Loss: 0.008932482451200485 | Test loss: 0.005023092031478882\n",
            "Epoch: 8180 | Loss: 0.008932482451200485 | Test loss: 0.005023092031478882\n",
            "Epoch: 8190 | Loss: 0.008932482451200485 | Test loss: 0.005023092031478882\n",
            "Epoch: 8200 | Loss: 0.008932482451200485 | Test loss: 0.005023092031478882\n",
            "Epoch: 8210 | Loss: 0.008932482451200485 | Test loss: 0.005023092031478882\n",
            "Epoch: 8220 | Loss: 0.008932482451200485 | Test loss: 0.005023092031478882\n",
            "Epoch: 8230 | Loss: 0.008932482451200485 | Test loss: 0.005023092031478882\n",
            "Epoch: 8240 | Loss: 0.008932482451200485 | Test loss: 0.005023092031478882\n",
            "Epoch: 8250 | Loss: 0.008932482451200485 | Test loss: 0.005023092031478882\n",
            "Epoch: 8260 | Loss: 0.008932482451200485 | Test loss: 0.005023092031478882\n",
            "Epoch: 8270 | Loss: 0.008932482451200485 | Test loss: 0.005023092031478882\n",
            "Epoch: 8280 | Loss: 0.008932482451200485 | Test loss: 0.005023092031478882\n",
            "Epoch: 8290 | Loss: 0.008932482451200485 | Test loss: 0.005023092031478882\n",
            "Epoch: 8300 | Loss: 0.008932482451200485 | Test loss: 0.005023092031478882\n",
            "Epoch: 8310 | Loss: 0.008932482451200485 | Test loss: 0.005023092031478882\n",
            "Epoch: 8320 | Loss: 0.008932482451200485 | Test loss: 0.005023092031478882\n",
            "Epoch: 8330 | Loss: 0.008932482451200485 | Test loss: 0.005023092031478882\n",
            "Epoch: 8340 | Loss: 0.008932482451200485 | Test loss: 0.005023092031478882\n",
            "Epoch: 8350 | Loss: 0.008932482451200485 | Test loss: 0.005023092031478882\n",
            "Epoch: 8360 | Loss: 0.008932482451200485 | Test loss: 0.005023092031478882\n",
            "Epoch: 8370 | Loss: 0.008932482451200485 | Test loss: 0.005023092031478882\n",
            "Epoch: 8380 | Loss: 0.008932482451200485 | Test loss: 0.005023092031478882\n",
            "Epoch: 8390 | Loss: 0.008932482451200485 | Test loss: 0.005023092031478882\n",
            "Epoch: 8400 | Loss: 0.008932482451200485 | Test loss: 0.005023092031478882\n",
            "Epoch: 8410 | Loss: 0.008932482451200485 | Test loss: 0.005023092031478882\n",
            "Epoch: 8420 | Loss: 0.008932482451200485 | Test loss: 0.005023092031478882\n",
            "Epoch: 8430 | Loss: 0.008932482451200485 | Test loss: 0.005023092031478882\n",
            "Epoch: 8440 | Loss: 0.008932482451200485 | Test loss: 0.005023092031478882\n",
            "Epoch: 8450 | Loss: 0.008932482451200485 | Test loss: 0.005023092031478882\n",
            "Epoch: 8460 | Loss: 0.008932482451200485 | Test loss: 0.005023092031478882\n",
            "Epoch: 8470 | Loss: 0.008932482451200485 | Test loss: 0.005023092031478882\n",
            "Epoch: 8480 | Loss: 0.008932482451200485 | Test loss: 0.005023092031478882\n",
            "Epoch: 8490 | Loss: 0.008932482451200485 | Test loss: 0.005023092031478882\n",
            "Epoch: 8500 | Loss: 0.008932482451200485 | Test loss: 0.005023092031478882\n",
            "Epoch: 8510 | Loss: 0.008932482451200485 | Test loss: 0.005023092031478882\n",
            "Epoch: 8520 | Loss: 0.008932482451200485 | Test loss: 0.005023092031478882\n",
            "Epoch: 8530 | Loss: 0.008932482451200485 | Test loss: 0.005023092031478882\n",
            "Epoch: 8540 | Loss: 0.008932482451200485 | Test loss: 0.005023092031478882\n",
            "Epoch: 8550 | Loss: 0.008932482451200485 | Test loss: 0.005023092031478882\n",
            "Epoch: 8560 | Loss: 0.008932482451200485 | Test loss: 0.005023092031478882\n",
            "Epoch: 8570 | Loss: 0.008932482451200485 | Test loss: 0.005023092031478882\n",
            "Epoch: 8580 | Loss: 0.008932482451200485 | Test loss: 0.005023092031478882\n",
            "Epoch: 8590 | Loss: 0.008932482451200485 | Test loss: 0.005023092031478882\n",
            "Epoch: 8600 | Loss: 0.008932482451200485 | Test loss: 0.005023092031478882\n",
            "Epoch: 8610 | Loss: 0.008932482451200485 | Test loss: 0.005023092031478882\n",
            "Epoch: 8620 | Loss: 0.008932482451200485 | Test loss: 0.005023092031478882\n",
            "Epoch: 8630 | Loss: 0.008932482451200485 | Test loss: 0.005023092031478882\n",
            "Epoch: 8640 | Loss: 0.008932482451200485 | Test loss: 0.005023092031478882\n",
            "Epoch: 8650 | Loss: 0.008932482451200485 | Test loss: 0.005023092031478882\n",
            "Epoch: 8660 | Loss: 0.008932482451200485 | Test loss: 0.005023092031478882\n",
            "Epoch: 8670 | Loss: 0.008932482451200485 | Test loss: 0.005023092031478882\n",
            "Epoch: 8680 | Loss: 0.008932482451200485 | Test loss: 0.005023092031478882\n",
            "Epoch: 8690 | Loss: 0.008932482451200485 | Test loss: 0.005023092031478882\n",
            "Epoch: 8700 | Loss: 0.008932482451200485 | Test loss: 0.005023092031478882\n",
            "Epoch: 8710 | Loss: 0.008932482451200485 | Test loss: 0.005023092031478882\n",
            "Epoch: 8720 | Loss: 0.008932482451200485 | Test loss: 0.005023092031478882\n",
            "Epoch: 8730 | Loss: 0.008932482451200485 | Test loss: 0.005023092031478882\n",
            "Epoch: 8740 | Loss: 0.008932482451200485 | Test loss: 0.005023092031478882\n",
            "Epoch: 8750 | Loss: 0.008932482451200485 | Test loss: 0.005023092031478882\n",
            "Epoch: 8760 | Loss: 0.008932482451200485 | Test loss: 0.005023092031478882\n",
            "Epoch: 8770 | Loss: 0.008932482451200485 | Test loss: 0.005023092031478882\n",
            "Epoch: 8780 | Loss: 0.008932482451200485 | Test loss: 0.005023092031478882\n",
            "Epoch: 8790 | Loss: 0.008932482451200485 | Test loss: 0.005023092031478882\n",
            "Epoch: 8800 | Loss: 0.008932482451200485 | Test loss: 0.005023092031478882\n",
            "Epoch: 8810 | Loss: 0.008932482451200485 | Test loss: 0.005023092031478882\n",
            "Epoch: 8820 | Loss: 0.008932482451200485 | Test loss: 0.005023092031478882\n",
            "Epoch: 8830 | Loss: 0.008932482451200485 | Test loss: 0.005023092031478882\n",
            "Epoch: 8840 | Loss: 0.008932482451200485 | Test loss: 0.005023092031478882\n",
            "Epoch: 8850 | Loss: 0.008932482451200485 | Test loss: 0.005023092031478882\n",
            "Epoch: 8860 | Loss: 0.008932482451200485 | Test loss: 0.005023092031478882\n",
            "Epoch: 8870 | Loss: 0.008932482451200485 | Test loss: 0.005023092031478882\n",
            "Epoch: 8880 | Loss: 0.008932482451200485 | Test loss: 0.005023092031478882\n",
            "Epoch: 8890 | Loss: 0.008932482451200485 | Test loss: 0.005023092031478882\n",
            "Epoch: 8900 | Loss: 0.008932482451200485 | Test loss: 0.005023092031478882\n",
            "Epoch: 8910 | Loss: 0.008932482451200485 | Test loss: 0.005023092031478882\n",
            "Epoch: 8920 | Loss: 0.008932482451200485 | Test loss: 0.005023092031478882\n",
            "Epoch: 8930 | Loss: 0.008932482451200485 | Test loss: 0.005023092031478882\n",
            "Epoch: 8940 | Loss: 0.008932482451200485 | Test loss: 0.005023092031478882\n",
            "Epoch: 8950 | Loss: 0.008932482451200485 | Test loss: 0.005023092031478882\n",
            "Epoch: 8960 | Loss: 0.008932482451200485 | Test loss: 0.005023092031478882\n",
            "Epoch: 8970 | Loss: 0.008932482451200485 | Test loss: 0.005023092031478882\n",
            "Epoch: 8980 | Loss: 0.008932482451200485 | Test loss: 0.005023092031478882\n",
            "Epoch: 8990 | Loss: 0.008932482451200485 | Test loss: 0.005023092031478882\n",
            "Epoch: 9000 | Loss: 0.008932482451200485 | Test loss: 0.005023092031478882\n",
            "Epoch: 9010 | Loss: 0.008932482451200485 | Test loss: 0.005023092031478882\n",
            "Epoch: 9020 | Loss: 0.008932482451200485 | Test loss: 0.005023092031478882\n",
            "Epoch: 9030 | Loss: 0.008932482451200485 | Test loss: 0.005023092031478882\n",
            "Epoch: 9040 | Loss: 0.008932482451200485 | Test loss: 0.005023092031478882\n",
            "Epoch: 9050 | Loss: 0.008932482451200485 | Test loss: 0.005023092031478882\n",
            "Epoch: 9060 | Loss: 0.008932482451200485 | Test loss: 0.005023092031478882\n",
            "Epoch: 9070 | Loss: 0.008932482451200485 | Test loss: 0.005023092031478882\n",
            "Epoch: 9080 | Loss: 0.008932482451200485 | Test loss: 0.005023092031478882\n",
            "Epoch: 9090 | Loss: 0.008932482451200485 | Test loss: 0.005023092031478882\n",
            "Epoch: 9100 | Loss: 0.008932482451200485 | Test loss: 0.005023092031478882\n",
            "Epoch: 9110 | Loss: 0.008932482451200485 | Test loss: 0.005023092031478882\n",
            "Epoch: 9120 | Loss: 0.008932482451200485 | Test loss: 0.005023092031478882\n",
            "Epoch: 9130 | Loss: 0.008932482451200485 | Test loss: 0.005023092031478882\n",
            "Epoch: 9140 | Loss: 0.008932482451200485 | Test loss: 0.005023092031478882\n",
            "Epoch: 9150 | Loss: 0.008932482451200485 | Test loss: 0.005023092031478882\n",
            "Epoch: 9160 | Loss: 0.008932482451200485 | Test loss: 0.005023092031478882\n",
            "Epoch: 9170 | Loss: 0.008932482451200485 | Test loss: 0.005023092031478882\n",
            "Epoch: 9180 | Loss: 0.008932482451200485 | Test loss: 0.005023092031478882\n",
            "Epoch: 9190 | Loss: 0.008932482451200485 | Test loss: 0.005023092031478882\n",
            "Epoch: 9200 | Loss: 0.008932482451200485 | Test loss: 0.005023092031478882\n",
            "Epoch: 9210 | Loss: 0.008932482451200485 | Test loss: 0.005023092031478882\n",
            "Epoch: 9220 | Loss: 0.008932482451200485 | Test loss: 0.005023092031478882\n",
            "Epoch: 9230 | Loss: 0.008932482451200485 | Test loss: 0.005023092031478882\n",
            "Epoch: 9240 | Loss: 0.008932482451200485 | Test loss: 0.005023092031478882\n",
            "Epoch: 9250 | Loss: 0.008932482451200485 | Test loss: 0.005023092031478882\n",
            "Epoch: 9260 | Loss: 0.008932482451200485 | Test loss: 0.005023092031478882\n",
            "Epoch: 9270 | Loss: 0.008932482451200485 | Test loss: 0.005023092031478882\n",
            "Epoch: 9280 | Loss: 0.008932482451200485 | Test loss: 0.005023092031478882\n",
            "Epoch: 9290 | Loss: 0.008932482451200485 | Test loss: 0.005023092031478882\n",
            "Epoch: 9300 | Loss: 0.008932482451200485 | Test loss: 0.005023092031478882\n",
            "Epoch: 9310 | Loss: 0.008932482451200485 | Test loss: 0.005023092031478882\n",
            "Epoch: 9320 | Loss: 0.008932482451200485 | Test loss: 0.005023092031478882\n",
            "Epoch: 9330 | Loss: 0.008932482451200485 | Test loss: 0.005023092031478882\n",
            "Epoch: 9340 | Loss: 0.008932482451200485 | Test loss: 0.005023092031478882\n",
            "Epoch: 9350 | Loss: 0.008932482451200485 | Test loss: 0.005023092031478882\n",
            "Epoch: 9360 | Loss: 0.008932482451200485 | Test loss: 0.005023092031478882\n",
            "Epoch: 9370 | Loss: 0.008932482451200485 | Test loss: 0.005023092031478882\n",
            "Epoch: 9380 | Loss: 0.008932482451200485 | Test loss: 0.005023092031478882\n",
            "Epoch: 9390 | Loss: 0.008932482451200485 | Test loss: 0.005023092031478882\n",
            "Epoch: 9400 | Loss: 0.008932482451200485 | Test loss: 0.005023092031478882\n",
            "Epoch: 9410 | Loss: 0.008932482451200485 | Test loss: 0.005023092031478882\n",
            "Epoch: 9420 | Loss: 0.008932482451200485 | Test loss: 0.005023092031478882\n",
            "Epoch: 9430 | Loss: 0.008932482451200485 | Test loss: 0.005023092031478882\n",
            "Epoch: 9440 | Loss: 0.008932482451200485 | Test loss: 0.005023092031478882\n",
            "Epoch: 9450 | Loss: 0.008932482451200485 | Test loss: 0.005023092031478882\n",
            "Epoch: 9460 | Loss: 0.008932482451200485 | Test loss: 0.005023092031478882\n",
            "Epoch: 9470 | Loss: 0.008932482451200485 | Test loss: 0.005023092031478882\n",
            "Epoch: 9480 | Loss: 0.008932482451200485 | Test loss: 0.005023092031478882\n",
            "Epoch: 9490 | Loss: 0.008932482451200485 | Test loss: 0.005023092031478882\n",
            "Epoch: 9500 | Loss: 0.008932482451200485 | Test loss: 0.005023092031478882\n",
            "Epoch: 9510 | Loss: 0.008932482451200485 | Test loss: 0.005023092031478882\n",
            "Epoch: 9520 | Loss: 0.008932482451200485 | Test loss: 0.005023092031478882\n",
            "Epoch: 9530 | Loss: 0.008932482451200485 | Test loss: 0.005023092031478882\n",
            "Epoch: 9540 | Loss: 0.008932482451200485 | Test loss: 0.005023092031478882\n",
            "Epoch: 9550 | Loss: 0.008932482451200485 | Test loss: 0.005023092031478882\n",
            "Epoch: 9560 | Loss: 0.008932482451200485 | Test loss: 0.005023092031478882\n",
            "Epoch: 9570 | Loss: 0.008932482451200485 | Test loss: 0.005023092031478882\n",
            "Epoch: 9580 | Loss: 0.008932482451200485 | Test loss: 0.005023092031478882\n",
            "Epoch: 9590 | Loss: 0.008932482451200485 | Test loss: 0.005023092031478882\n",
            "Epoch: 9600 | Loss: 0.008932482451200485 | Test loss: 0.005023092031478882\n",
            "Epoch: 9610 | Loss: 0.008932482451200485 | Test loss: 0.005023092031478882\n",
            "Epoch: 9620 | Loss: 0.008932482451200485 | Test loss: 0.005023092031478882\n",
            "Epoch: 9630 | Loss: 0.008932482451200485 | Test loss: 0.005023092031478882\n",
            "Epoch: 9640 | Loss: 0.008932482451200485 | Test loss: 0.005023092031478882\n",
            "Epoch: 9650 | Loss: 0.008932482451200485 | Test loss: 0.005023092031478882\n",
            "Epoch: 9660 | Loss: 0.008932482451200485 | Test loss: 0.005023092031478882\n",
            "Epoch: 9670 | Loss: 0.008932482451200485 | Test loss: 0.005023092031478882\n",
            "Epoch: 9680 | Loss: 0.008932482451200485 | Test loss: 0.005023092031478882\n",
            "Epoch: 9690 | Loss: 0.008932482451200485 | Test loss: 0.005023092031478882\n",
            "Epoch: 9700 | Loss: 0.008932482451200485 | Test loss: 0.005023092031478882\n",
            "Epoch: 9710 | Loss: 0.008932482451200485 | Test loss: 0.005023092031478882\n",
            "Epoch: 9720 | Loss: 0.008932482451200485 | Test loss: 0.005023092031478882\n",
            "Epoch: 9730 | Loss: 0.008932482451200485 | Test loss: 0.005023092031478882\n",
            "Epoch: 9740 | Loss: 0.008932482451200485 | Test loss: 0.005023092031478882\n",
            "Epoch: 9750 | Loss: 0.008932482451200485 | Test loss: 0.005023092031478882\n",
            "Epoch: 9760 | Loss: 0.008932482451200485 | Test loss: 0.005023092031478882\n",
            "Epoch: 9770 | Loss: 0.008932482451200485 | Test loss: 0.005023092031478882\n",
            "Epoch: 9780 | Loss: 0.008932482451200485 | Test loss: 0.005023092031478882\n",
            "Epoch: 9790 | Loss: 0.008932482451200485 | Test loss: 0.005023092031478882\n",
            "Epoch: 9800 | Loss: 0.008932482451200485 | Test loss: 0.005023092031478882\n",
            "Epoch: 9810 | Loss: 0.008932482451200485 | Test loss: 0.005023092031478882\n",
            "Epoch: 9820 | Loss: 0.008932482451200485 | Test loss: 0.005023092031478882\n",
            "Epoch: 9830 | Loss: 0.008932482451200485 | Test loss: 0.005023092031478882\n",
            "Epoch: 9840 | Loss: 0.008932482451200485 | Test loss: 0.005023092031478882\n",
            "Epoch: 9850 | Loss: 0.008932482451200485 | Test loss: 0.005023092031478882\n",
            "Epoch: 9860 | Loss: 0.008932482451200485 | Test loss: 0.005023092031478882\n",
            "Epoch: 9870 | Loss: 0.008932482451200485 | Test loss: 0.005023092031478882\n",
            "Epoch: 9880 | Loss: 0.008932482451200485 | Test loss: 0.005023092031478882\n",
            "Epoch: 9890 | Loss: 0.008932482451200485 | Test loss: 0.005023092031478882\n",
            "Epoch: 9900 | Loss: 0.008932482451200485 | Test loss: 0.005023092031478882\n",
            "Epoch: 9910 | Loss: 0.008932482451200485 | Test loss: 0.005023092031478882\n",
            "Epoch: 9920 | Loss: 0.008932482451200485 | Test loss: 0.005023092031478882\n",
            "Epoch: 9930 | Loss: 0.008932482451200485 | Test loss: 0.005023092031478882\n",
            "Epoch: 9940 | Loss: 0.008932482451200485 | Test loss: 0.005023092031478882\n",
            "Epoch: 9950 | Loss: 0.008932482451200485 | Test loss: 0.005023092031478882\n",
            "Epoch: 9960 | Loss: 0.008932482451200485 | Test loss: 0.005023092031478882\n",
            "Epoch: 9970 | Loss: 0.008932482451200485 | Test loss: 0.005023092031478882\n",
            "Epoch: 9980 | Loss: 0.008932482451200485 | Test loss: 0.005023092031478882\n",
            "Epoch: 9990 | Loss: 0.008932482451200485 | Test loss: 0.005023092031478882\n"
          ]
        }
      ]
    },
    {
      "cell_type": "code",
      "source": [
        "# Plot the loss curves\n",
        "plt.plot(epoch_count, train_loss_values, label=\"Train loss\")\n",
        "plt.plot(epoch_count, test_loss_values, label=\"Test loss\")\n",
        "plt.title(\"Training and test loss curves\")\n",
        "plt.ylabel(\"Loss\")\n",
        "plt.xlabel(\"Epochs\")\n",
        "plt.legend();"
      ],
      "metadata": {
        "colab": {
          "base_uri": "https://localhost:8080/",
          "height": 472
        },
        "id": "LfNVoXp4yrVE",
        "outputId": "1f36dd1d-0f02-4405-db6c-efebc4ae542b"
      },
      "execution_count": 72,
      "outputs": [
        {
          "output_type": "display_data",
          "data": {
            "text/plain": [
              "<Figure size 640x480 with 1 Axes>"
            ],
            "image/png": "[encoded data removed]"
          },
          "metadata": {}
        }
      ]
    },
    {
      "cell_type": "code",
      "source": [
        "# Find our model's learned parameters\n",
        "print(\"The model learned the following values for weights and bias:\")\n",
        "print(model.state_dict())\n",
        "print(\"\\nAnd the original values for weights and bias are:\")\n",
        "print(f\"weights: {weight}, bias: {bias}\")"
      ],
      "metadata": {
        "colab": {
          "base_uri": "https://localhost:8080/"
        },
        "id": "QfE7pVZwzSJ0",
        "outputId": "3a3aa9e9-0d28-4ea5-cedf-892c57510e1d"
      },
      "execution_count": 69,
      "outputs": [
        {
          "output_type": "stream",
          "name": "stdout",
          "text": [
            "The model learned the following values for weights and bias:\n",
            "OrderedDict([('weights', tensor([0.6990])), ('bias', tensor([0.3093]))])\n",
            "\n",
            "And the original values for weights and bias are:\n",
            "weights: 0.7, bias: 0.3\n"
          ]
        }
      ]
    },
    {
      "cell_type": "code",
      "source": [
        "model.eval()\n",
        "\n",
        "# 2. Setup the inference mode context manager\n",
        "with torch.inference_mode():\n",
        "  # 3. Make sure the calculations are done with the model and data on the same device\n",
        "  # in our case, we haven't setup device-agnostic code yet so our data and model are\n",
        "  # on the CPU by default.\n",
        "  # model_0.to(device)\n",
        "  # X_test = X_test.to(device)\n",
        "  y_preds = model(X_test)\n",
        "y_preds"
      ],
      "metadata": {
        "colab": {
          "base_uri": "https://localhost:8080/"
        },
        "id": "wYmmtpDS0ZxC",
        "outputId": "a79214e7-c921-48dd-d095-318faa4ea727"
      },
      "execution_count": 68,
      "outputs": [
        {
          "output_type": "execute_result",
          "data": {
            "text/plain": [
              "tensor([[0.8685],\n",
              "        [0.8825],\n",
              "        [0.8965],\n",
              "        [0.9105],\n",
              "        [0.9245],\n",
              "        [0.9384],\n",
              "        [0.9524],\n",
              "        [0.9664],\n",
              "        [0.9804],\n",
              "        [0.9944]])"
            ]
          },
          "metadata": {},
          "execution_count": 68
        }
      ]
    },
    {
      "cell_type": "code",
      "source": [
        "plot_predictions(predictions=y_preds)"
      ],
      "metadata": {
        "colab": {
          "base_uri": "https://localhost:8080/",
          "height": 471
        },
        "id": "FPvJNXK50z2c",
        "outputId": "c2e7ca24-35ff-4dd9-bd5a-f3d3031c2890"
      },
      "execution_count": 70,
      "outputs": [
        {
          "output_type": "display_data",
          "data": {
            "text/plain": [
              "<Figure size 1000x700 with 1 Axes>"
            ],
            "image/png": "[encoded data removed]"
          },
          "metadata": {}
        }
      ]
    },
    {
      "cell_type": "code",
      "source": [
        "torch.save()"
      ],
      "metadata": {
        "colab": {
          "base_uri": "https://localhost:8080/",
          "height": 141
        },
        "id": "Wb70lU-X3CiF",
        "outputId": "da1404bd-dca0-445e-b4fd-abd002a29744"
      },
      "execution_count": 73,
      "outputs": [
        {
          "output_type": "error",
          "ename": "TypeError",
          "evalue": "save() missing 2 required positional arguments: 'obj' and 'f'",
          "traceback": [
            "\u001b[0;31m---------------------------------------------------------------------------\u001b[0m",
            "\u001b[0;31mTypeError\u001b[0m                                 Traceback (most recent call last)",
            "\u001b[0;32m<ipython-input-73-b888864d8df0>\u001b[0m in \u001b[0;36m<cell line: 0>\u001b[0;34m()\u001b[0m\n\u001b[0;32m----> 1\u001b[0;31m \u001b[0mtorch\u001b[0m\u001b[0;34m.\u001b[0m\u001b[0msave\u001b[0m\u001b[0;34m(\u001b[0m\u001b[0;34m)\u001b[0m\u001b[0;34m\u001b[0m\u001b[0;34m\u001b[0m\u001b[0m\n\u001b[0m",
            "\u001b[0;31mTypeError\u001b[0m: save() missing 2 required positional arguments: 'obj' and 'f'"
          ]
        }
      ]
    },
    {
      "cell_type": "code",
      "source": [
        "from pathlib import Path\n",
        "MODEL_PATH = Path(\"models\")\n",
        "MODEL_PATH.mkdir(parents=True,exist_ok=True)\n",
        "MODEL_NAME = \"01_pytorch_workflow_model_0.pth\"\n",
        "MODEL_SAVE_PATH = MODEL_PATH/MODEL_NAME\n",
        "MODEL_SAVE_PATH"
      ],
      "metadata": {
        "colab": {
          "base_uri": "https://localhost:8080/"
        },
        "id": "1TTlI9NSLFVg",
        "outputId": "d7e79162-7208-4b2b-a63f-f1eb94f1168f"
      },
      "execution_count": 74,
      "outputs": [
        {
          "output_type": "execute_result",
          "data": {
            "text/plain": [
              "PosixPath('models/01_pytorch_workflow_model_0.pth')"
            ]
          },
          "metadata": {},
          "execution_count": 74
        }
      ]
    }
  ]
}