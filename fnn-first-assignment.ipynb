{
 "cells": [
  {
   "cell_type": "code",
   "execution_count": 1,
   "id": "ed30c8d1",
   "metadata": {
    "_cell_guid": "b1076dfc-b9ad-4769-8c92-a6c4dae69d19",
    "_uuid": "8f2839f25d086af736a60e9eeb907d3b93b6e0e5",
    "execution": {
     "iopub.execute_input": "2025-03-04T19:25:57.016578Z",
     "iopub.status.busy": "2025-03-04T19:25:57.016295Z",
     "iopub.status.idle": "2025-03-04T19:25:57.737367Z",
     "shell.execute_reply": "2025-03-04T19:25:57.736388Z"
    },
    "papermill": {
     "duration": 0.72731,
     "end_time": "2025-03-04T19:25:57.738699",
     "exception": false,
     "start_time": "2025-03-04T19:25:57.011389",
     "status": "completed"
    },
    "tags": []
   },
   "outputs": [
    {
     "name": "stdout",
     "output_type": "stream",
     "text": [
      "/kaggle/input/titanic/train.csv\n",
      "/kaggle/input/titanic/test.csv\n",
      "/kaggle/input/titanic/gender_submission.csv\n"
     ]
    }
   ],
   "source": [
    "# This Python 3 environment comes with many helpful analytics libraries installed\n",
    "# It is defined by the kaggle/python Docker image: https://github.com/kaggle/docker-python\n",
    "# For example, here's several helpful packages to load\n",
    "\n",
    "import numpy as np # linear algebra\n",
    "import pandas as pd # data processing, CSV file I/O (e.g. pd.read_csv)\n",
    "\n",
    "# Input data files are available in the read-only \"../input/\" directory\n",
    "# For example, running this (by clicking run or pressing Shift+Enter) will list all files under the input directory\n",
    "\n",
    "import os\n",
    "for dirname, _, filenames in os.walk('/kaggle/input'):\n",
    "    for filename in filenames:\n",
    "        print(os.path.join(dirname, filename))\n",
    "\n",
    "# You can write up to 20GB to the current directory (/kaggle/working/) that gets preserved as output when you create a version using \"Save & Run All\" \n",
    "# You can also write temporary files to /kaggle/temp/, but they won't be saved outside of the current session"
   ]
  },
  {
   "cell_type": "code",
   "execution_count": 2,
   "id": "1afcc96a",
   "metadata": {
    "execution": {
     "iopub.execute_input": "2025-03-04T19:25:57.746775Z",
     "iopub.status.busy": "2025-03-04T19:25:57.746455Z",
     "iopub.status.idle": "2025-03-04T19:26:02.075640Z",
     "shell.execute_reply": "2025-03-04T19:26:02.074803Z"
    },
    "papermill": {
     "duration": 4.3347,
     "end_time": "2025-03-04T19:26:02.077163",
     "exception": false,
     "start_time": "2025-03-04T19:25:57.742463",
     "status": "completed"
    },
    "tags": []
   },
   "outputs": [
    {
     "name": "stdout",
     "output_type": "stream",
     "text": [
      "Requirement already satisfied: torch in /usr/local/lib/python3.10/dist-packages (2.5.1+cu121)\r\n",
      "Requirement already satisfied: torchvision in /usr/local/lib/python3.10/dist-packages (0.20.1+cu121)\r\n",
      "Requirement already satisfied: torchaudio in /usr/local/lib/python3.10/dist-packages (2.5.1+cu121)\r\n",
      "Requirement already satisfied: pandas in /usr/local/lib/python3.10/dist-packages (2.2.3)\r\n",
      "Requirement already satisfied: scikit-learn in /usr/local/lib/python3.10/dist-packages (1.2.2)\r\n",
      "Requirement already satisfied: filelock in /usr/local/lib/python3.10/dist-packages (from torch) (3.17.0)\r\n",
      "Requirement already satisfied: typing-extensions>=4.8.0 in /usr/local/lib/python3.10/dist-packages (from torch) (4.12.2)\r\n",
      "Requirement already satisfied: networkx in /usr/local/lib/python3.10/dist-packages (from torch) (3.4.2)\r\n",
      "Requirement already satisfied: jinja2 in /usr/local/lib/python3.10/dist-packages (from torch) (3.1.4)\r\n",
      "Requirement already satisfied: fsspec in /usr/local/lib/python3.10/dist-packages (from torch) (2024.12.0)\r\n",
      "Requirement already satisfied: sympy==1.13.1 in /usr/local/lib/python3.10/dist-packages (from torch) (1.13.1)\r\n",
      "Requirement already satisfied: mpmath<1.4,>=1.1.0 in /usr/local/lib/python3.10/dist-packages (from sympy==1.13.1->torch) (1.3.0)\r\n",
      "Requirement already satisfied: numpy in /usr/local/lib/python3.10/dist-packages (from torchvision) (1.26.4)\r\n",
      "Requirement already satisfied: pillow!=8.3.*,>=5.3.0 in /usr/local/lib/python3.10/dist-packages (from torchvision) (11.0.0)\r\n",
      "Requirement already satisfied: python-dateutil>=2.8.2 in /usr/local/lib/python3.10/dist-packages (from pandas) (2.9.0.post0)\r\n",
      "Requirement already satisfied: pytz>=2020.1 in /usr/local/lib/python3.10/dist-packages (from pandas) (2025.1)\r\n",
      "Requirement already satisfied: tzdata>=2022.7 in /usr/local/lib/python3.10/dist-packages (from pandas) (2025.1)\r\n",
      "Requirement already satisfied: scipy>=1.3.2 in /usr/local/lib/python3.10/dist-packages (from scikit-learn) (1.13.1)\r\n",
      "Requirement already satisfied: joblib>=1.1.1 in /usr/local/lib/python3.10/dist-packages (from scikit-learn) (1.4.2)\r\n",
      "Requirement already satisfied: threadpoolctl>=2.0.0 in /usr/local/lib/python3.10/dist-packages (from scikit-learn) (3.5.0)\r\n",
      "Requirement already satisfied: mkl_fft in /usr/local/lib/python3.10/dist-packages (from numpy->torchvision) (1.3.8)\r\n",
      "Requirement already satisfied: mkl_random in /usr/local/lib/python3.10/dist-packages (from numpy->torchvision) (1.2.4)\r\n",
      "Requirement already satisfied: mkl_umath in /usr/local/lib/python3.10/dist-packages (from numpy->torchvision) (0.1.1)\r\n",
      "Requirement already satisfied: mkl in /usr/local/lib/python3.10/dist-packages (from numpy->torchvision) (2025.0.1)\r\n",
      "Requirement already satisfied: tbb4py in /usr/local/lib/python3.10/dist-packages (from numpy->torchvision) (2022.0.0)\r\n",
      "Requirement already satisfied: mkl-service in /usr/local/lib/python3.10/dist-packages (from numpy->torchvision) (2.4.1)\r\n",
      "Requirement already satisfied: six>=1.5 in /usr/local/lib/python3.10/dist-packages (from python-dateutil>=2.8.2->pandas) (1.17.0)\r\n",
      "Requirement already satisfied: MarkupSafe>=2.0 in /usr/local/lib/python3.10/dist-packages (from jinja2->torch) (3.0.2)\r\n",
      "Requirement already satisfied: intel-openmp>=2024 in /usr/local/lib/python3.10/dist-packages (from mkl->numpy->torchvision) (2024.2.0)\r\n",
      "Requirement already satisfied: tbb==2022.* in /usr/local/lib/python3.10/dist-packages (from mkl->numpy->torchvision) (2022.0.0)\r\n",
      "Requirement already satisfied: tcmlib==1.* in /usr/local/lib/python3.10/dist-packages (from tbb==2022.*->mkl->numpy->torchvision) (1.2.0)\r\n",
      "Requirement already satisfied: intel-cmplr-lib-rt in /usr/local/lib/python3.10/dist-packages (from mkl_umath->numpy->torchvision) (2024.2.0)\r\n",
      "Requirement already satisfied: intel-cmplr-lib-ur==2024.2.0 in /usr/local/lib/python3.10/dist-packages (from intel-openmp>=2024->mkl->numpy->torchvision) (2024.2.0)\r\n"
     ]
    }
   ],
   "source": [
    "!pip install torch torchvision torchaudio pandas scikit-learn\n"
   ]
  },
  {
   "cell_type": "code",
   "execution_count": 3,
   "id": "941c7d03",
   "metadata": {
    "execution": {
     "iopub.execute_input": "2025-03-04T19:26:02.086809Z",
     "iopub.status.busy": "2025-03-04T19:26:02.086575Z",
     "iopub.status.idle": "2025-03-04T19:26:06.438566Z",
     "shell.execute_reply": "2025-03-04T19:26:06.437647Z"
    },
    "papermill": {
     "duration": 4.359053,
     "end_time": "2025-03-04T19:26:06.440174",
     "exception": false,
     "start_time": "2025-03-04T19:26:02.081121",
     "status": "completed"
    },
    "tags": []
   },
   "outputs": [],
   "source": [
    "import pandas as pd\n",
    "import numpy as np\n",
    "import torch\n",
    "import torch.nn as nn\n",
    "import torch.optim as optim\n",
    "from sklearn.model_selection import train_test_split\n",
    "from sklearn.preprocessing import StandardScaler, LabelEncoder\n",
    "from torch.utils.data import DataLoader, TensorDataset\n",
    "\n",
    "# Load the Titanic dataset\n",
    "df = pd.read_csv('/kaggle/input/titanic/train.csv')\n"
   ]
  },
  {
   "cell_type": "code",
   "execution_count": 4,
   "id": "683b8014",
   "metadata": {
    "execution": {
     "iopub.execute_input": "2025-03-04T19:26:06.448279Z",
     "iopub.status.busy": "2025-03-04T19:26:06.448054Z",
     "iopub.status.idle": "2025-03-04T19:26:06.455257Z",
     "shell.execute_reply": "2025-03-04T19:26:06.454296Z"
    },
    "papermill": {
     "duration": 0.012519,
     "end_time": "2025-03-04T19:26:06.456532",
     "exception": false,
     "start_time": "2025-03-04T19:26:06.444013",
     "status": "completed"
    },
    "tags": []
   },
   "outputs": [
    {
     "name": "stdout",
     "output_type": "stream",
     "text": [
      "PassengerId      0\n",
      "Survived         0\n",
      "Pclass           0\n",
      "Name             0\n",
      "Sex              0\n",
      "Age            177\n",
      "SibSp            0\n",
      "Parch            0\n",
      "Ticket           0\n",
      "Fare             0\n",
      "Cabin          687\n",
      "Embarked         2\n",
      "dtype: int64\n"
     ]
    }
   ],
   "source": [
    "missing_values = df.isnull().sum()\n",
    "print(missing_values)"
   ]
  },
  {
   "cell_type": "code",
   "execution_count": 5,
   "id": "5be768cc",
   "metadata": {
    "execution": {
     "iopub.execute_input": "2025-03-04T19:26:06.464275Z",
     "iopub.status.busy": "2025-03-04T19:26:06.464060Z",
     "iopub.status.idle": "2025-03-04T19:26:06.485220Z",
     "shell.execute_reply": "2025-03-04T19:26:06.484215Z"
    },
    "papermill": {
     "duration": 0.026482,
     "end_time": "2025-03-04T19:26:06.486577",
     "exception": false,
     "start_time": "2025-03-04T19:26:06.460095",
     "status": "completed"
    },
    "tags": []
   },
   "outputs": [
    {
     "name": "stdout",
     "output_type": "stream",
     "text": [
      "    Age Cabin Embarked\n",
      "0  22.0   NaN        S\n",
      "1  38.0   C85        C\n",
      "2  26.0   NaN        S\n",
      "3  35.0  C123        S\n",
      "4  35.0   NaN        S\n",
      "5   NaN   NaN        Q\n",
      "6  54.0   E46        S\n",
      "7   2.0   NaN        S\n",
      "8  27.0   NaN        S\n",
      "9  14.0   NaN        C\n"
     ]
    },
    {
     "name": "stderr",
     "output_type": "stream",
     "text": [
      "/usr/local/lib/python3.10/dist-packages/pandas/io/formats/format.py:1458: RuntimeWarning: invalid value encountered in greater\n",
      "  has_large_values = (abs_vals > 1e6).any()\n",
      "/usr/local/lib/python3.10/dist-packages/pandas/io/formats/format.py:1459: RuntimeWarning: invalid value encountered in less\n",
      "  has_small_values = ((abs_vals < 10 ** (-self.digits)) & (abs_vals > 0)).any()\n",
      "/usr/local/lib/python3.10/dist-packages/pandas/io/formats/format.py:1459: RuntimeWarning: invalid value encountered in greater\n",
      "  has_small_values = ((abs_vals < 10 ** (-self.digits)) & (abs_vals > 0)).any()\n"
     ]
    }
   ],
   "source": [
    "print(df[[\"Age\",\"Cabin\",\"Embarked\"]].head(10))"
   ]
  },
  {
   "cell_type": "code",
   "execution_count": 6,
   "id": "e75dd232",
   "metadata": {
    "execution": {
     "iopub.execute_input": "2025-03-04T19:26:06.495184Z",
     "iopub.status.busy": "2025-03-04T19:26:06.494907Z",
     "iopub.status.idle": "2025-03-04T19:26:06.507391Z",
     "shell.execute_reply": "2025-03-04T19:26:06.506650Z"
    },
    "papermill": {
     "duration": 0.017789,
     "end_time": "2025-03-04T19:26:06.508522",
     "exception": false,
     "start_time": "2025-03-04T19:26:06.490733",
     "status": "completed"
    },
    "tags": []
   },
   "outputs": [
    {
     "name": "stdout",
     "output_type": "stream",
     "text": [
      "Age\n",
      "24.00    30\n",
      "22.00    27\n",
      "18.00    26\n",
      "30.00    25\n",
      "19.00    25\n",
      "         ..\n",
      "66.00     1\n",
      "0.92      1\n",
      "23.50     1\n",
      "53.00     1\n",
      "80.00     1\n",
      "Name: count, Length: 88, dtype: int64\n",
      "Embarked\n",
      "S    644\n",
      "C    168\n",
      "Q     77\n",
      "Name: count, dtype: int64\n",
      "Cabin\n",
      "B96 B98        4\n",
      "G6             4\n",
      "C23 C25 C27    4\n",
      "F2             3\n",
      "C22 C26        3\n",
      "              ..\n",
      "C106           1\n",
      "A19            1\n",
      "D7             1\n",
      "C118           1\n",
      "E50            1\n",
      "Name: count, Length: 147, dtype: int64\n"
     ]
    }
   ],
   "source": [
    "\n",
    "print(df[\"Age\"].value_counts())\n",
    "print(df[\"Embarked\"].value_counts())\n",
    "print(df[\"Cabin\"].value_counts())"
   ]
  },
  {
   "cell_type": "code",
   "execution_count": 7,
   "id": "eddf1ac3",
   "metadata": {
    "execution": {
     "iopub.execute_input": "2025-03-04T19:26:06.516659Z",
     "iopub.status.busy": "2025-03-04T19:26:06.516457Z",
     "iopub.status.idle": "2025-03-04T19:26:06.527530Z",
     "shell.execute_reply": "2025-03-04T19:26:06.526982Z"
    },
    "papermill": {
     "duration": 0.016321,
     "end_time": "2025-03-04T19:26:06.528662",
     "exception": false,
     "start_time": "2025-03-04T19:26:06.512341",
     "status": "completed"
    },
    "tags": []
   },
   "outputs": [],
   "source": [
    "# Fill missing values\n",
    "df['Age'] = df['Age'].fillna(df['Age'].mean())\n",
    "df['Embarked'] = df['Embarked'].fillna(df['Embarked'].mode()[0])\n",
    "df['Fare'] = df['Fare'].fillna(df['Fare'].mean())\n",
    "\n",
    "# Encode categorical variables\n",
    "label_encoder = LabelEncoder()\n",
    "df['Sex'] = label_encoder.fit_transform(df['Sex'])\n",
    "df['Embarked'] = label_encoder.fit_transform(df['Embarked'])\n",
    "\n",
    "# Select features and target\n",
    "X = df[['Pclass', 'Sex', 'Age', 'SibSp', 'Parch', 'Fare', 'Embarked']].values\n",
    "y = df['Survived'].values\n",
    "\n",
    "# Split data\n",
    "X_train, X_test, y_train, y_test = train_test_split(X, y, test_size=0.2, random_state=42)\n",
    "\n",
    "# Scale features\n",
    "scaler = StandardScaler()\n",
    "X_train = scaler.fit_transform(X_train)\n",
    "X_test = scaler.transform(X_test)\n"
   ]
  },
  {
   "cell_type": "code",
   "execution_count": 8,
   "id": "590730ba",
   "metadata": {
    "execution": {
     "iopub.execute_input": "2025-03-04T19:26:06.537179Z",
     "iopub.status.busy": "2025-03-04T19:26:06.536976Z",
     "iopub.status.idle": "2025-03-04T19:26:06.540068Z",
     "shell.execute_reply": "2025-03-04T19:26:06.539252Z"
    },
    "papermill": {
     "duration": 0.008667,
     "end_time": "2025-03-04T19:26:06.541275",
     "exception": false,
     "start_time": "2025-03-04T19:26:06.532608",
     "status": "completed"
    },
    "tags": []
   },
   "outputs": [
    {
     "name": "stdout",
     "output_type": "stream",
     "text": [
      "(891, 12)\n"
     ]
    }
   ],
   "source": [
    "print(df.shape)"
   ]
  },
  {
   "cell_type": "code",
   "execution_count": 9,
   "id": "aa8c97f6",
   "metadata": {
    "execution": {
     "iopub.execute_input": "2025-03-04T19:26:06.549282Z",
     "iopub.status.busy": "2025-03-04T19:26:06.549047Z",
     "iopub.status.idle": "2025-03-04T19:26:06.553563Z",
     "shell.execute_reply": "2025-03-04T19:26:06.552778Z"
    },
    "papermill": {
     "duration": 0.009891,
     "end_time": "2025-03-04T19:26:06.554895",
     "exception": false,
     "start_time": "2025-03-04T19:26:06.545004",
     "status": "completed"
    },
    "tags": []
   },
   "outputs": [
    {
     "name": "stdout",
     "output_type": "stream",
     "text": [
      "29.69911764705882\n",
      "32.204207968574636\n"
     ]
    }
   ],
   "source": [
    "print(df['Age'].mean())\n",
    "print(df['Fare'].mean())\n"
   ]
  },
  {
   "cell_type": "code",
   "execution_count": 10,
   "id": "1d7e4971",
   "metadata": {
    "execution": {
     "iopub.execute_input": "2025-03-04T19:26:06.563059Z",
     "iopub.status.busy": "2025-03-04T19:26:06.562825Z",
     "iopub.status.idle": "2025-03-04T19:26:06.567730Z",
     "shell.execute_reply": "2025-03-04T19:26:06.566966Z"
    },
    "papermill": {
     "duration": 0.010319,
     "end_time": "2025-03-04T19:26:06.569050",
     "exception": false,
     "start_time": "2025-03-04T19:26:06.558731",
     "status": "completed"
    },
    "tags": []
   },
   "outputs": [
    {
     "name": "stdout",
     "output_type": "stream",
     "text": [
      "PassengerId      0\n",
      "Survived         0\n",
      "Pclass           0\n",
      "Name             0\n",
      "Sex              0\n",
      "Age              0\n",
      "SibSp            0\n",
      "Parch            0\n",
      "Ticket           0\n",
      "Fare             0\n",
      "Cabin          687\n",
      "Embarked         0\n",
      "dtype: int64\n"
     ]
    }
   ],
   "source": [
    "print(df.isnull().sum())\n"
   ]
  },
  {
   "cell_type": "code",
   "execution_count": 11,
   "id": "cc5563b0",
   "metadata": {
    "execution": {
     "iopub.execute_input": "2025-03-04T19:26:06.577201Z",
     "iopub.status.busy": "2025-03-04T19:26:06.576960Z",
     "iopub.status.idle": "2025-03-04T19:26:06.613565Z",
     "shell.execute_reply": "2025-03-04T19:26:06.612764Z"
    },
    "papermill": {
     "duration": 0.042021,
     "end_time": "2025-03-04T19:26:06.614799",
     "exception": false,
     "start_time": "2025-03-04T19:26:06.572778",
     "status": "completed"
    },
    "tags": []
   },
   "outputs": [],
   "source": [
    "X_train_tensor = torch.tensor(X_train, dtype=torch.float32)\n",
    "y_train_tensor = torch.tensor(y_train, dtype=torch.float32).view(-1, 1)\n",
    "\n",
    "X_test_tensor = torch.tensor(X_test, dtype=torch.float32)\n",
    "y_test_tensor = torch.tensor(y_test, dtype=torch.float32).view(-1, 1)\n",
    "\n",
    "train_dataset = TensorDataset(X_train_tensor, y_train_tensor)\n",
    "test_dataset = TensorDataset(X_test_tensor, y_test_tensor)\n",
    "\n",
    "train_loader = DataLoader(dataset=train_dataset, batch_size=10, shuffle=True)\n",
    "test_loader = DataLoader(dataset=test_dataset, batch_size=10, shuffle=False)\n"
   ]
  },
  {
   "cell_type": "code",
   "execution_count": 12,
   "id": "5a398b81",
   "metadata": {
    "execution": {
     "iopub.execute_input": "2025-03-04T19:26:06.623078Z",
     "iopub.status.busy": "2025-03-04T19:26:06.622827Z",
     "iopub.status.idle": "2025-03-04T19:26:06.626576Z",
     "shell.execute_reply": "2025-03-04T19:26:06.625775Z"
    },
    "papermill": {
     "duration": 0.009155,
     "end_time": "2025-03-04T19:26:06.627780",
     "exception": false,
     "start_time": "2025-03-04T19:26:06.618625",
     "status": "completed"
    },
    "tags": []
   },
   "outputs": [
    {
     "name": "stdout",
     "output_type": "stream",
     "text": [
      "7\n"
     ]
    }
   ],
   "source": [
    "print(X_train.shape[1])\n"
   ]
  },
  {
   "cell_type": "code",
   "execution_count": 13,
   "id": "631e9934",
   "metadata": {
    "execution": {
     "iopub.execute_input": "2025-03-04T19:26:06.635922Z",
     "iopub.status.busy": "2025-03-04T19:26:06.635731Z",
     "iopub.status.idle": "2025-03-04T19:26:06.640307Z",
     "shell.execute_reply": "2025-03-04T19:26:06.639667Z"
    },
    "papermill": {
     "duration": 0.009892,
     "end_time": "2025-03-04T19:26:06.641475",
     "exception": false,
     "start_time": "2025-03-04T19:26:06.631583",
     "status": "completed"
    },
    "tags": []
   },
   "outputs": [
    {
     "name": "stdout",
     "output_type": "stream",
     "text": [
      "0 0\n",
      "0 0\n"
     ]
    }
   ],
   "source": [
    "print(np.isnan(X_train).sum(), np.isinf(X_train).sum())\n",
    "print(np.isnan(y_train).sum(), np.isinf(y_train).sum())\n"
   ]
  },
  {
   "cell_type": "code",
   "execution_count": 14,
   "id": "cdbe258e",
   "metadata": {
    "execution": {
     "iopub.execute_input": "2025-03-04T19:26:06.649782Z",
     "iopub.status.busy": "2025-03-04T19:26:06.649567Z",
     "iopub.status.idle": "2025-03-04T19:26:06.653552Z",
     "shell.execute_reply": "2025-03-04T19:26:06.652731Z"
    },
    "papermill": {
     "duration": 0.009348,
     "end_time": "2025-03-04T19:26:06.654710",
     "exception": false,
     "start_time": "2025-03-04T19:26:06.645362",
     "status": "completed"
    },
    "tags": []
   },
   "outputs": [
    {
     "name": "stdout",
     "output_type": "stream",
     "text": [
      "(712, 7)\n",
      "torch.Size([712, 1])\n"
     ]
    }
   ],
   "source": [
    "print(X_train.shape)\n",
    "print(y_train_tensor.shape)"
   ]
  },
  {
   "cell_type": "code",
   "execution_count": 15,
   "id": "46814afc",
   "metadata": {
    "execution": {
     "iopub.execute_input": "2025-03-04T19:26:06.663176Z",
     "iopub.status.busy": "2025-03-04T19:26:06.662961Z",
     "iopub.status.idle": "2025-03-04T19:26:10.151561Z",
     "shell.execute_reply": "2025-03-04T19:26:10.150868Z"
    },
    "papermill": {
     "duration": 3.494377,
     "end_time": "2025-03-04T19:26:10.153119",
     "exception": false,
     "start_time": "2025-03-04T19:26:06.658742",
     "status": "completed"
    },
    "tags": []
   },
   "outputs": [],
   "source": [
    "class TitanicNN(nn.Module):\n",
    "    def __init__(self, input_size):\n",
    "        super(TitanicNN, self).__init__()\n",
    "        self.fc1 = nn.Linear(input_size, 16)\n",
    "        self.relu = nn.ReLU()\n",
    "        self.fc2 = nn.Linear(16, 8)\n",
    "        self.fc3 = nn.Linear(8, 1)\n",
    "        self.sigmoid = nn.Sigmoid()\n",
    "\n",
    "    def forward(self, x):\n",
    "        x = self.relu(self.fc1(x))\n",
    "        x = self.relu(self.fc2(x))\n",
    "        x = self.sigmoid(self.fc3(x))\n",
    "        return x\n",
    "\n",
    "# Initialize model\n",
    "input_size = X_train.shape[1]\n",
    "model = TitanicNN(input_size)\n",
    "\n",
    "# Define loss function and optimizer\n",
    "criterion = nn.BCELoss()\n",
    "optimizer = optim.Adam(model.parameters(), lr=0.001)\n"
   ]
  },
  {
   "cell_type": "code",
   "execution_count": 16,
   "id": "f72ee784",
   "metadata": {
    "execution": {
     "iopub.execute_input": "2025-03-04T19:26:10.162501Z",
     "iopub.status.busy": "2025-03-04T19:26:10.162153Z",
     "iopub.status.idle": "2025-03-04T19:26:20.299356Z",
     "shell.execute_reply": "2025-03-04T19:26:20.298397Z"
    },
    "papermill": {
     "duration": 10.143336,
     "end_time": "2025-03-04T19:26:20.300815",
     "exception": false,
     "start_time": "2025-03-04T19:26:10.157479",
     "status": "completed"
    },
    "tags": []
   },
   "outputs": [
    {
     "name": "stdout",
     "output_type": "stream",
     "text": [
      "Epoch [100/100], Loss: 0.0744\n"
     ]
    }
   ],
   "source": [
    "num_epochs = 100\n",
    "\n",
    "for epoch in range(num_epochs):\n",
    "    for X_batch, y_batch in train_loader:\n",
    "        # Forward pass\n",
    "        outputs = model(X_batch)\n",
    "        loss = criterion(outputs, y_batch)\n",
    "\n",
    "        # Backward pass\n",
    "        optimizer.zero_grad()\n",
    "        loss.backward()\n",
    "        optimizer.step()\n",
    "\n",
    "    if (epoch+1) % 100 == 0:\n",
    "        print(f'Epoch [{epoch+1}/{num_epochs}], Loss: {loss.item():.4f}')\n"
   ]
  },
  {
   "cell_type": "code",
   "execution_count": 17,
   "id": "89ca270b",
   "metadata": {
    "execution": {
     "iopub.execute_input": "2025-03-04T19:26:20.310325Z",
     "iopub.status.busy": "2025-03-04T19:26:20.310067Z",
     "iopub.status.idle": "2025-03-04T19:26:20.313660Z",
     "shell.execute_reply": "2025-03-04T19:26:20.312698Z"
    },
    "papermill": {
     "duration": 0.009521,
     "end_time": "2025-03-04T19:26:20.314899",
     "exception": false,
     "start_time": "2025-03-04T19:26:20.305378",
     "status": "completed"
    },
    "tags": []
   },
   "outputs": [
    {
     "name": "stdout",
     "output_type": "stream",
     "text": [
      "TitanicNN(\n",
      "  (fc1): Linear(in_features=7, out_features=16, bias=True)\n",
      "  (relu): ReLU()\n",
      "  (fc2): Linear(in_features=16, out_features=8, bias=True)\n",
      "  (fc3): Linear(in_features=8, out_features=1, bias=True)\n",
      "  (sigmoid): Sigmoid()\n",
      ")\n"
     ]
    }
   ],
   "source": [
    "print(model)"
   ]
  },
  {
   "cell_type": "code",
   "execution_count": 18,
   "id": "1014bcc6",
   "metadata": {
    "execution": {
     "iopub.execute_input": "2025-03-04T19:26:20.323885Z",
     "iopub.status.busy": "2025-03-04T19:26:20.323686Z",
     "iopub.status.idle": "2025-03-04T19:26:20.338904Z",
     "shell.execute_reply": "2025-03-04T19:26:20.338108Z"
    },
    "papermill": {
     "duration": 0.021098,
     "end_time": "2025-03-04T19:26:20.340151",
     "exception": false,
     "start_time": "2025-03-04T19:26:20.319053",
     "status": "completed"
    },
    "tags": []
   },
   "outputs": [
    {
     "name": "stdout",
     "output_type": "stream",
     "text": [
      "Correct: 147.0000\n",
      "Total: 179.0000\n",
      "Accuracy: 0.8212\n"
     ]
    }
   ],
   "source": [
    "model.eval()  # Set the model to evaluation mode\n",
    "correct = 0\n",
    "total = 0\n",
    "with torch.no_grad():\n",
    "    for X_batch, y_batch in test_loader:\n",
    "        outputs = model(X_batch)\n",
    "        predicted = (outputs > 0.5).float()  # Using 0.5 as threshold\n",
    "        total += y_batch.size(0)\n",
    "        correct += (predicted == y_batch).sum().item()\n",
    "\n",
    "accuracy = correct / total\n",
    "print(f'Correct: {correct:.4f}')\n",
    "print(f'Total: {total:.4f}')\n",
    "print(f'Accuracy: {accuracy:.4f}')"
   ]
  }
 ],
 "metadata": {
  "kaggle": {
   "accelerator": "nvidiaTeslaT4",
   "dataSources": [
    {
     "databundleVersionId": 26502,
     "sourceId": 3136,
     "sourceType": "competition"
    }
   ],
   "dockerImageVersionId": 30918,
   "isGpuEnabled": true,
   "isInternetEnabled": true,
   "language": "python",
   "sourceType": "notebook"
  },
  "kernelspec": {
   "display_name": "Python 3",
   "language": "python",
   "name": "python3"
  },
  "language_info": {
   "codemirror_mode": {
    "name": "ipython",
    "version": 3
   },
   "file_extension": ".py",
   "mimetype": "text/x-python",
   "name": "python",
   "nbconvert_exporter": "python",
   "pygments_lexer": "ipython3",
   "version": "3.10.12"
  },
  "papermill": {
   "default_parameters": {},
   "duration": 27.361343,
   "end_time": "2025-03-04T19:26:21.764136",
   "environment_variables": {},
   "exception": null,
   "input_path": "__notebook__.ipynb",
   "output_path": "__notebook__.ipynb",
   "parameters": {},
   "start_time": "2025-03-04T19:25:54.402793",
   "version": "2.6.0"
  }
 },
 "nbformat": 4,
 "nbformat_minor": 5
}
